{
 "cells": [
  {
   "cell_type": "code",
   "execution_count": 1,
   "metadata": {},
   "outputs": [],
   "source": [
    "import scipy.io\n",
    "import sys\n",
    "import csv\n",
    "import matplotlib.pyplot as plt\n",
    "import numpy as np\n",
    "import math\n",
    "import os\n",
    "import pandas as pd\n",
    "import wfdb\n",
    "from wfdb import processing, Annotation\n",
    "from tqdm import tqdm\n",
    "import pickle"
   ]
  },
  {
   "cell_type": "code",
   "execution_count": 2,
   "metadata": {},
   "outputs": [],
   "source": [
    "filepath = './physionet.org/files/ecg-arrhythmia/1.0.0/WFDBRecords'"
   ]
  },
  {
   "cell_type": "code",
   "execution_count": 3,
   "metadata": {},
   "outputs": [],
   "source": [
    "waveform = scipy.io.loadmat(filepath+'/07/070/JS06344'+'.mat')['val']"
   ]
  },
  {
   "cell_type": "code",
   "execution_count": 4,
   "metadata": {},
   "outputs": [],
   "source": [
    "lead12path = './af_challenge_2020/classification-of-12-lead-ecgs-the-physionetcomputing-in-cardiology-challenge-2020-1.0.2/training/cpsc_2018/g1/A0001.mat'"
   ]
  },
  {
   "cell_type": "code",
   "execution_count": 5,
   "metadata": {},
   "outputs": [],
   "source": [
    "ecg_diagnoses = {\n",
    "    \"164889003\": \"A\",  # atrial fibrillation\n",
    "    \"195080001\": \"A\",  # atrial fibrillation and flutter\n",
    "    \"426749004\": \"A\",  # chronic atrial fibrillation\n",
    "    \"282825002\": \"A\",  # paroxysmal atrial fibrillation\n",
    "    \"314208002\": \"A\",  # rapid atrial fibrillation\n",
    "    \"426783006\": \"N\",  # sinus rhythm\n",
    "}"
   ]
  },
  {
   "cell_type": "code",
   "execution_count": 6,
   "metadata": {},
   "outputs": [],
   "source": [
    "def resample(xs, fs, fs_target):\n",
    "    lx = []\n",
    "    for chan in range(xs.shape[1]):\n",
    "        resampled_x, _ = processing.resample_sig(xs[:, chan], fs, fs_target)\n",
    "        lx.append(resampled_x)\n",
    "\n",
    "    return np.column_stack(lx)"
   ]
  },
  {
   "cell_type": "code",
   "execution_count": 7,
   "metadata": {},
   "outputs": [],
   "source": [
    "data_12lead_path = './af_challenge_2020/classification-of-12-lead-ecgs-the-physionetcomputing-in-cardiology-challenge-2020-1.0.2/'\n",
    "\n",
    "## Level - 0: 1000 samples from georgia, 1: all samples from georgia, 2: all samples\n",
    "def import_12lead_data(target_freq=300, level=1):\n",
    "    # Dx_map = pd.read_csv(data_12lead_path + 'Dx_map.csv')\n",
    "    # Dx_map = Dx_map.set_index('SNOMED CT Code')['Abbreviation'].to_dict()\n",
    "    # print(Dx_map)\n",
    "\n",
    "    samples = []\n",
    "\n",
    "    with open(data_12lead_path + 'RECORDS', 'r') as f:\n",
    "        for line in f.readlines():\n",
    "            dir = data_12lead_path + line.rstrip('\\n')\n",
    "\n",
    "            if ('cpsc_2018' not in dir) and level <= 1:\n",
    "                continue\n",
    "\n",
    "            for filename in tqdm(os.listdir(dir)):\n",
    "                if filename[-3:] == 'mat':\n",
    "                    sample = wfdb.rdsamp(dir + '/' + filename[:-4])\n",
    "\n",
    "                    diagnoses = [x[4:] for x in sample[1]['comments'] if 'Dx: ' in x]\n",
    "                    assert len(diagnoses) == 1\n",
    "\n",
    "                    D = ''\n",
    "                    if diagnoses[0] in ecg_diagnoses:\n",
    "                        D = ecg_diagnoses[diagnoses[0]]\n",
    "                    else:\n",
    "                        D = 'O'\n",
    "                        \n",
    "\n",
    "                    waveform = resample(sample[0], sample[1]['fs'], target_freq)\n",
    "\n",
    "                    samples.append((waveform, D)) \n",
    "            \n",
    "            if level == 0:\n",
    "                break\n",
    "\n",
    "    return samples\n",
    "\n",
    "def import_balanced_12lead_data():\n",
    "    pick_path = './af_challenge_2020/balanced.pk'\n",
    "\n",
    "    if os.path.exists(pick_path):\n",
    "        with open(pick_path, 'rb') as file:\n",
    "            return pickle.load(file)\n",
    "    else:\n",
    "        data = import_12lead_data(level=2)\n",
    "\n",
    "        unique_categories = list(set([x[1] for x in data]))\n",
    "\n",
    "        dictmap = {cat:[x for x in data if x[1] == cat] for cat in unique_categories}\n",
    "\n",
    "        trim_value = min([len(ls) for ls in dictmap.values()])\n",
    "\n",
    "        output_data = []\n",
    "        for ls in dictmap.values():\n",
    "            output_data += ls[:trim_value]\n",
    "\n",
    "        with open(pick_path, 'wb') as file:\n",
    "            pickle.dump(output_data, file)\n",
    "\n",
    "        return output_data\n",
    "\n",
    "data = import_balanced_12lead_data()"
   ]
  },
  {
   "cell_type": "code",
   "execution_count": 8,
   "metadata": {},
   "outputs": [
    {
     "data": {
      "text/plain": [
       "O    1106\n",
       "A    1106\n",
       "N    1106\n",
       "Name: count, dtype: int64"
      ]
     },
     "execution_count": 8,
     "metadata": {},
     "output_type": "execute_result"
    }
   ],
   "source": [
    "pd.Series([x[1] for x in data]).value_counts()"
   ]
  },
  {
   "cell_type": "code",
   "execution_count": 9,
   "metadata": {},
   "outputs": [],
   "source": [
    "waveform = scipy.io.loadmat(lead12path)['val']"
   ]
  },
  {
   "cell_type": "code",
   "execution_count": 10,
   "metadata": {},
   "outputs": [
    {
     "data": {
      "text/plain": [
       "(12, 7500)"
      ]
     },
     "execution_count": 10,
     "metadata": {},
     "output_type": "execute_result"
    }
   ],
   "source": [
    "waveform.shape"
   ]
  },
  {
   "cell_type": "code",
   "execution_count": 11,
   "metadata": {},
   "outputs": [
    {
     "data": {
      "text/plain": [
       "[<matplotlib.lines.Line2D at 0x2134cc064d0>]"
      ]
     },
     "execution_count": 11,
     "metadata": {},
     "output_type": "execute_result"
    },
    {
     "data": {
      "image/png": "[encoded data removed]",
      "text/plain": [
       "<Figure size 640x480 with 1 Axes>"
      ]
     },
     "metadata": {},
     "output_type": "display_data"
    }
   ],
   "source": [
    "plt.plot(waveform.transpose()[:1000,1])"
   ]
  },
  {
   "cell_type": "code",
   "execution_count": 12,
   "metadata": {},
   "outputs": [
    {
     "ename": "IndexError",
     "evalue": "tuple index out of range",
     "output_type": "error",
     "traceback": [
      "\u001b[1;31m---------------------------------------------------------------------------\u001b[0m",
      "\u001b[1;31mIndexError\u001b[0m                                Traceback (most recent call last)",
      "Cell \u001b[1;32mIn[12], line 5\u001b[0m\n\u001b[0;32m      2\u001b[0m     x \u001b[38;5;241m=\u001b[39m x[\u001b[38;5;241m0\u001b[39m,\u001b[38;5;241m1000\u001b[39m:\u001b[38;5;241m1500\u001b[39m]\n\u001b[0;32m      3\u001b[0m     plt\u001b[38;5;241m.\u001b[39mplot(x\u001b[38;5;241m.\u001b[39mreshape(x\u001b[38;5;241m.\u001b[39mshape[\u001b[38;5;241m1\u001b[39m], x\u001b[38;5;241m.\u001b[39mshape[\u001b[38;5;241m0\u001b[39m]))\n\u001b[1;32m----> 5\u001b[0m \u001b[43mplotwave\u001b[49m\u001b[43m(\u001b[49m\u001b[43mwaveform\u001b[49m\u001b[43m)\u001b[49m\n",
      "Cell \u001b[1;32mIn[12], line 3\u001b[0m, in \u001b[0;36mplotwave\u001b[1;34m(x, n)\u001b[0m\n\u001b[0;32m      1\u001b[0m \u001b[38;5;28;01mdef\u001b[39;00m \u001b[38;5;21mplotwave\u001b[39m(x, n\u001b[38;5;241m=\u001b[39m\u001b[38;5;241m1000\u001b[39m):\n\u001b[0;32m      2\u001b[0m     x \u001b[38;5;241m=\u001b[39m x[\u001b[38;5;241m0\u001b[39m,\u001b[38;5;241m1000\u001b[39m:\u001b[38;5;241m1500\u001b[39m]\n\u001b[1;32m----> 3\u001b[0m     plt\u001b[38;5;241m.\u001b[39mplot(x\u001b[38;5;241m.\u001b[39mreshape(\u001b[43mx\u001b[49m\u001b[38;5;241;43m.\u001b[39;49m\u001b[43mshape\u001b[49m\u001b[43m[\u001b[49m\u001b[38;5;241;43m1\u001b[39;49m\u001b[43m]\u001b[49m, x\u001b[38;5;241m.\u001b[39mshape[\u001b[38;5;241m0\u001b[39m]))\n",
      "\u001b[1;31mIndexError\u001b[0m: tuple index out of range"
     ]
    }
   ],
   "source": [
    "def plotwave(x, n=1000):\n",
    "    x = x[0,1000:1500]\n",
    "    plt.plot(x.reshape(x.shape[1], x.shape[0]))\n",
    "\n",
    "plotwave(waveform)"
   ]
  }
 ],
 "metadata": {
  "kernelspec": {
   "display_name": "Python 3 (ipykernel)",
   "language": "python",
   "name": "python3"
  },
  "language_info": {
   "codemirror_mode": {
    "name": "ipython",
    "version": 3
   },
   "file_extension": ".py",
   "mimetype": "text/x-python",
   "name": "python",
   "nbconvert_exporter": "python",
   "pygments_lexer": "ipython3",
   "version": "3.11.7"
  }
 },
 "nbformat": 4,
 "nbformat_minor": 2
}

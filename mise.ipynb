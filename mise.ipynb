{
 "cells": [
  {
   "cell_type": "code",
   "execution_count": 8,
   "metadata": {},
   "outputs": [
    {
     "name": "stdout",
     "output_type": "stream",
     "text": [
      "The optimal value of h is: 0.54208984375 with mise 0.2678953147212308\n"
     ]
    },
    {
     "name": "stderr",
     "output_type": "stream",
     "text": [
      "100%|██████████| 1999/1999 [00:01<00:00, 1546.53it/s]\n"
     ]
    },
    {
     "data": {
      "text/plain": [
       "1.218"
      ]
     },
     "execution_count": 8,
     "metadata": {},
     "output_type": "execute_result"
    }
   ],
   "source": [
    "import numpy as np\n",
    "from scipy.optimize import minimize\n",
    "from scipy.optimize import minimize_scalar\n",
    "from tqdm import tqdm\n",
    "import matplotlib.pyplot as plt\n",
    "\n",
    "def MISE(h, n, d):\n",
    "    term1 = (1.0 / (n * h**d))\n",
    "    term2 = ((1 + h**2)**(-d/2.0)) / n\n",
    "    term3 = 1 - 2 * ((1 + (h**2 / 2.0))**(-d/2.0))\n",
    "    term4 = (1 + h**2)**(-d/2.0)\n",
    "    \n",
    "    MISE = term1 - term2 + term3 + term4\n",
    "    # MISE = MISE * ((4 * np.pi)**(-d/2.0))\n",
    "    \n",
    "    return MISE\n",
    "\n",
    "def minimize_function(n, d):\n",
    "    initial_h = 0.5\n",
    "    \n",
    "    result = minimize(lambda h: MISE(h, n, d), initial_h, method='Nelder-Mead')\n",
    "    \n",
    "    return result.x[0], result.fun\n",
    "\n",
    "def find_maximum_n_for_desired_mise(desired_mise, d, n_start=1, n_end=10000, n_step=1):\n",
    "    best_n = None\n",
    "    best_mise_diff = float('inf')\n",
    "    mises = []\n",
    "\n",
    "    for n in tqdm(np.arange(n_start, n_end + 1, n_step)):\n",
    "        optimal_h, current_mise = minimize_function(n, d)\n",
    "        mises.append(current_mise)\n",
    "        mise_diff = np.abs(current_mise - desired_mise)\n",
    "\n",
    "        if mise_diff < best_mise_diff:\n",
    "            best_n = n\n",
    "            best_mise_diff = mise_diff\n",
    "            # If the difference is very small, we might consider it close enough\n",
    "            if mise_diff < 1e-6:\n",
    "                break\n",
    "\n",
    "    return best_n\n",
    "\n",
    "n = 2000\n",
    "d = 8\n",
    "optimal_h, mise = minimize_function(n, d)\n",
    "print(f'The optimal value of h is: {optimal_h} with mise {mise}')\n",
    "\n",
    "find_maximum_n_for_desired_mise(mise, 1, n_start=0.001, n_step=0.001, n_end=1)"
   ]
  }
 ],
 "metadata": {
  "kernelspec": {
   "display_name": "Python 3",
   "language": "python",
   "name": "python3"
  },
  "language_info": {
   "codemirror_mode": {
    "name": "ipython",
    "version": 3
   },
   "file_extension": ".py",
   "mimetype": "text/x-python",
   "name": "python",
   "nbconvert_exporter": "python",
   "pygments_lexer": "ipython3",
   "version": "3.11.7"
  }
 },
 "nbformat": 4,
 "nbformat_minor": 2
}

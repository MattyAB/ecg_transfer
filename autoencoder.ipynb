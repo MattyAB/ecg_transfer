{
 "cells": [
  {
   "cell_type": "code",
   "execution_count": 7,
   "metadata": {},
   "outputs": [],
   "source": [
    "import torch\n",
    "from torch.utils.data import Dataset, DataLoader, SubsetRandomSampler\n",
    "from torch import nn\n",
    "import torch.nn.functional as F\n",
    "import torch.optim as optim\n",
    "\n",
    "import pandas as pd\n",
    "import numpy as np\n",
    "import io\n",
    "\n",
    "import seaborn as sns\n",
    "from sklearn.metrics import confusion_matrix\n",
    "from sklearn.model_selection import KFold\n",
    "\n",
    "import matplotlib.pyplot as plt\n",
    "\n",
    "from sklearn.neighbors import KernelDensity\n",
    "from scipy.spatial.distance import jensenshannon\n",
    "from scipy.stats import entropy"
   ]
  },
  {
   "cell_type": "code",
   "execution_count": 8,
   "metadata": {},
   "outputs": [],
   "source": [
    "from utils import *\n",
    "from data import *\n",
    "from models import *\n",
    "from train import *"
   ]
  },
  {
   "cell_type": "code",
   "execution_count": 9,
   "metadata": {},
   "outputs": [],
   "source": [
    "%run data.py\n",
    "%run utils.py\n",
    "%run models.py\n",
    "%run train.py"
   ]
  },
  {
   "cell_type": "code",
   "execution_count": 10,
   "metadata": {},
   "outputs": [],
   "source": [
    "device = torch.device(\"cuda\" if torch.cuda.is_available() else \"cpu\")"
   ]
  },
  {
   "cell_type": "markdown",
   "metadata": {},
   "source": [
    "# Data Import"
   ]
  },
  {
   "cell_type": "code",
   "execution_count": 11,
   "metadata": {},
   "outputs": [],
   "source": [
    "data_mit = import_mit_data()"
   ]
  },
  {
   "cell_type": "code",
   "execution_count": 12,
   "metadata": {},
   "outputs": [
    {
     "name": "stderr",
     "output_type": "stream",
     "text": [
      "100%|██████████| 48/48 [00:53<00:00,  1.12s/it]\n"
     ]
    }
   ],
   "source": [
    "beats = []\n",
    "freq = 360\n",
    "\n",
    "for i,patient in tqdm(enumerate(data_mit), total=len(data_mit)):\n",
    "    for waveform, label in patient:\n",
    "        rpeaks = wfdb.processing.xqrs_detect(waveform, fs=freq, verbose=False)\n",
    "\n",
    "        for peak in rpeaks:\n",
    "            if peak >= freq/2 and peak < len(waveform) - freq/2:\n",
    "                partial_wave = waveform[peak-freq//2:peak+freq//2]\n",
    "                partial_wave,_ = pywt.dwt(partial_wave, 'db6')\n",
    "                partial_wave,_ = pywt.dwt(partial_wave, 'db6')\n",
    "                beats.append((partial_wave, label, i)) "
   ]
  },
  {
   "cell_type": "code",
   "execution_count": 13,
   "metadata": {},
   "outputs": [
    {
     "data": {
      "image/png": "[encoded data removed]",
      "text/plain": [
       "<Figure size 640x480 with 1 Axes>"
      ]
     },
     "metadata": {},
     "output_type": "display_data"
    }
   ],
   "source": [
    "def plotbeat(x):\n",
    "    if type(x) is tuple:\n",
    "        plt.plot(x[0])\n",
    "    else:\n",
    "        plt.plot(x)\n",
    "\n",
    "plotbeat(beats[0])"
   ]
  },
  {
   "cell_type": "markdown",
   "metadata": {},
   "source": [
    "# Dataset"
   ]
  },
  {
   "cell_type": "code",
   "execution_count": 14,
   "metadata": {},
   "outputs": [],
   "source": [
    "labels = list(set([x[1] for x in beats]))\n",
    "label_map = {label:i for i,label in enumerate(labels)}"
   ]
  },
  {
   "cell_type": "code",
   "execution_count": 15,
   "metadata": {},
   "outputs": [
    {
     "name": "stderr",
     "output_type": "stream",
     "text": [
      "100%|██████████| 76851/76851 [00:02<00:00, 27240.27it/s]\n"
     ]
    }
   ],
   "source": [
    "class BeatDataset(Dataset):\n",
    "    def __init__(self, data, device, label_map, specify_patient=None):\n",
    "        self.data = []\n",
    "\n",
    "        for waveform, label, patient in tqdm(data):\n",
    "            if specify_patient:\n",
    "                if patient != specify_patient:\n",
    "                    continue\n",
    "                \n",
    "\n",
    "            ## Z-score Normalisation\n",
    "            waveform = (waveform - waveform.mean()) / waveform.std()\n",
    "\n",
    "            self.data.append((\n",
    "                torch.tensor(waveform, device=device, dtype=torch.float32),\n",
    "                torch.tensor(label_map[label], device=device),\n",
    "                patient\n",
    "            ))\n",
    "\n",
    "    def __len__(self):\n",
    "        return len(self.data)\n",
    "    \n",
    "    def __getitem__(self, idx):\n",
    "        waveform, label, patient = self.data[idx]\n",
    "\n",
    "        return waveform, label\n",
    "    \n",
    "beat_dataset = BeatDataset(beats, device, label_map)\n",
    "beat_dataloader = DataLoader(beat_dataset, batch_size=128, shuffle=True)"
   ]
  },
  {
   "cell_type": "code",
   "execution_count": 19,
   "metadata": {},
   "outputs": [
    {
     "data": {
      "text/plain": [
       "<All keys matched successfully>"
      ]
     },
     "execution_count": 19,
     "metadata": {},
     "output_type": "execute_result"
    }
   ],
   "source": [
    "class Encoder(nn.Module):\n",
    "    def __init__(self, embedding_dim=32):\n",
    "        super().__init__()\n",
    "\n",
    "        self.lstm1 = nn.LSTM(input_size=1, hidden_size=embedding_dim, batch_first=True)\n",
    "        self.dropout = nn.Dropout(0.1)\n",
    "        self.lstm2 = nn.LSTM(input_size=embedding_dim, hidden_size=embedding_dim, batch_first=True)\n",
    "\n",
    "    def forward(self, x):\n",
    "        x = x.reshape((x.shape[0], x.shape[1], 1))\n",
    "        x, _ = self.lstm1(x)\n",
    "        x = self.dropout(x)\n",
    "        _, hidden = self.lstm2(x)\n",
    "\n",
    "        # return lstm_out[:,-1,:]\n",
    "        return hidden\n",
    "    \n",
    "class Decoder(nn.Module):\n",
    "    def __init__(self, seq_len=98, embedding_dim=32):\n",
    "        super().__init__()\n",
    "\n",
    "        self.seq_len = seq_len\n",
    "        \n",
    "        self.lstm1 = nn.LSTM(input_size=embedding_dim, hidden_size=embedding_dim, batch_first=True)\n",
    "        self.dropout = nn.Dropout(0.1)\n",
    "        self.lstm2 = nn.LSTM(input_size=embedding_dim, hidden_size=embedding_dim, batch_first=True)\n",
    "        self.output_layer = nn.Linear(embedding_dim, 1)\n",
    "\n",
    "    def forward(self, x):\n",
    "        # x = x.unsqueeze(1).repeat(1,self.seq_len,1)\n",
    "        x,_ = self.lstm1(torch.zeros([x[0].shape[1], self.seq_len, x[0].shape[2]], device=x[0].device), x)\n",
    "        x = self.dropout(x)\n",
    "        x,_ = self.lstm2(x)\n",
    "        x = self.output_layer(x)\n",
    "\n",
    "        return x.squeeze(2)\n",
    "\n",
    "class AEModel(nn.Module):\n",
    "    def __init__(self, embedding_dim=32):\n",
    "        super().__init__()\n",
    "\n",
    "        self.encoder = Encoder(embedding_dim=embedding_dim)\n",
    "        self.decoder = Decoder(embedding_dim=embedding_dim)\n",
    "\n",
    "    def forward(self, x):\n",
    "        x = self.encoder(x)\n",
    "        x = self.decoder(x)\n",
    "        return x\n",
    "\n",
    "model = AEModel(embedding_dim=16).to(device)\n",
    "model.load_state_dict(torch.load('autoencoder16.pt'))"
   ]
  },
  {
   "cell_type": "code",
   "execution_count": 20,
   "metadata": {},
   "outputs": [],
   "source": [
    "criterion = nn.MSELoss()\n",
    "optimizer = optim.Adam(model.parameters())\n",
    "\n",
    "losses = []"
   ]
  },
  {
   "cell_type": "code",
   "execution_count": 21,
   "metadata": {},
   "outputs": [
    {
     "name": "stdout",
     "output_type": "stream",
     "text": [
      "epoch 0, loss 14.483979408629239\n"
     ]
    }
   ],
   "source": [
    "for epoch in range(10000):\n",
    "    model.train()\n",
    "\n",
    "    for i,batch in enumerate(beat_dataloader, 0):\n",
    "\n",
    "        optimizer.zero_grad()\n",
    "\n",
    "        seq, label = batch\n",
    "\n",
    "        seq_pred = model.forward(seq)\n",
    "\n",
    "        loss = criterion(seq, seq_pred)\n",
    "        loss.backward()\n",
    "        nn.utils.clip_grad_norm_(model.parameters(), max_norm=3.)\n",
    "        optimizer.step()\n",
    "\n",
    "    if epoch % 10 == 0:\n",
    "        model.eval()\n",
    "\n",
    "        totalloss = 0.\n",
    "\n",
    "        with torch.no_grad():\n",
    "            for i,batch in enumerate(beat_dataloader, 0):\n",
    "                seq, label = batch\n",
    "\n",
    "                seq_pred = model.forward(seq)\n",
    "\n",
    "                loss = criterion(seq, seq_pred)\n",
    "\n",
    "                totalloss += loss.item()\n",
    "\n",
    "        print(f'epoch {epoch}, loss {totalloss}')\n",
    "        losses.append(totalloss)\n",
    "\n",
    "    if epoch % 100 == 0:\n",
    "        torch.save(model.state_dict(), 'autoencoder16.pt')"
   ]
  },
  {
   "cell_type": "code",
   "execution_count": null,
   "metadata": {},
   "outputs": [],
   "source": [
    "torch.save(model.state_dict(), 'autoencoder16.pt')"
   ]
  },
  {
   "cell_type": "code",
   "execution_count": null,
   "metadata": {},
   "outputs": [
    {
     "data": {
      "text/plain": [
       "[<matplotlib.lines.Line2D at 0x7f8d960b0970>]"
      ]
     },
     "execution_count": 142,
     "metadata": {},
     "output_type": "execute_result"
    },
    {
     "data": {
      "image/png": "[encoded data removed]",
      "text/plain": [
       "<Figure size 640x480 with 1 Axes>"
      ]
     },
     "metadata": {},
     "output_type": "display_data"
    }
   ],
   "source": [
    "plt.plot([np.log(x) for x in losses])"
   ]
  },
  {
   "cell_type": "code",
   "execution_count": null,
   "metadata": {},
   "outputs": [
    {
     "data": {
      "text/plain": [
       "[<matplotlib.lines.Line2D at 0x7f8d96154430>]"
      ]
     },
     "execution_count": 139,
     "metadata": {},
     "output_type": "execute_result"
    },
    {
     "data": {
      "image/png": "[encoded data removed]",
      "text/plain": [
       "<Figure size 640x480 with 1 Axes>"
      ]
     },
     "metadata": {},
     "output_type": "display_data"
    }
   ],
   "source": [
    "i = 5327\n",
    "\n",
    "seq, label, _ = beats[i]\n",
    "seq = torch.tensor(seq, dtype=torch.float32, device=device)\n",
    "seq = seq.reshape((1,98))\n",
    "model.eval()\n",
    "seq_pred = model.forward(seq)\n",
    "\n",
    "plt.plot(seq.detach().cpu().numpy().reshape(-1))\n",
    "plt.plot(seq_pred.detach().cpu().numpy().reshape(-1))\n"
   ]
  },
  {
   "cell_type": "markdown",
   "metadata": {},
   "source": [
    "# Distribution Difference"
   ]
  },
  {
   "cell_type": "code",
   "execution_count": null,
   "metadata": {},
   "outputs": [],
   "source": []
  },
  {
   "cell_type": "code",
   "execution_count": null,
   "metadata": {},
   "outputs": [],
   "source": [
    "users = [{key:[] for key in label_map.keys()} for i in range(48)]\n",
    "\n",
    "for beat in beats:\n",
    "    users[beat[2]][beat[1]].append(beat[0])"
   ]
  },
  {
   "cell_type": "code",
   "execution_count": null,
   "metadata": {},
   "outputs": [
    {
     "data": {
      "text/plain": [
       "{'P': 0, 'R': 1, 'V': 2, 'N': 3, 'L': 4}"
      ]
     },
     "execution_count": 170,
     "metadata": {},
     "output_type": "execute_result"
    }
   ],
   "source": [
    "label_map"
   ]
  },
  {
   "cell_type": "code",
   "execution_count": null,
   "metadata": {},
   "outputs": [
    {
     "data": {
      "text/plain": [
       "[0, 0, 16, 1910, 0]"
      ]
     },
     "execution_count": 213,
     "metadata": {},
     "output_type": "execute_result"
    }
   ],
   "source": [
    "[len(x) for x in users[12].values()]"
   ]
  },
  {
   "cell_type": "code",
   "execution_count": null,
   "metadata": {},
   "outputs": [
    {
     "data": {
      "text/plain": [
       "0.7498314842870284"
      ]
     },
     "execution_count": 238,
     "metadata": {},
     "output_type": "execute_result"
    }
   ],
   "source": [
    "def encode(beats):\n",
    "    values = np.stack(beats, axis=1).reshape((-1, 98))\n",
    "    seq = torch.tensor(values, dtype=torch.float32, device=device)\n",
    "    model.eval()\n",
    "    with torch.no_grad():\n",
    "        encoded = model.encoder.forward(seq)\n",
    "    encoded = torch.concat(encoded, dim=2).squeeze(0)\n",
    "    return encoded\n",
    "\n",
    "def relative_entropy(beats_1, beats_2):\n",
    "    encode_1 = encode(beats_1).detach().cpu().numpy()\n",
    "    encode_2 = encode(beats_2).detach().cpu().numpy()\n",
    "\n",
    "    kde_D1 = KernelDensity(bandwidth=1.0, kernel='gaussian').fit(encode_1)\n",
    "    kde_D2 = KernelDensity(bandwidth=1.0, kernel='gaussian').fit(encode_2)\n",
    "\n",
    "    X = np.vstack([encode_1, encode_2])\n",
    "\n",
    "    log_prob_D1 = kde_D1.score_samples(X)\n",
    "    log_prob_D2 = kde_D2.score_samples(X)\n",
    "\n",
    "    prob_D1 = np.exp(log_prob_D1)\n",
    "    prob_D2 = np.exp(log_prob_D2)\n",
    "\n",
    "    # Calculate the KL divergence\n",
    "    kl_divergence = jensenshannon(prob_D1, prob_D2)\n",
    "\n",
    "    # print(kl_divergence)\n",
    "\n",
    "    return kl_divergence\n",
    "\n",
    "group_1 = users[9]['N'][:1000]\n",
    "# group_2 = users[9]['N'][1000:]\n",
    "group_2 = users[12]['N'][:1000]\n",
    "# group_2 = users[20]['R'][:1000]\n",
    "\n",
    "relative_entropy(group_1, group_2)"
   ]
  },
  {
   "cell_type": "code",
   "execution_count": null,
   "metadata": {},
   "outputs": [],
   "source": [
    "category = 'N'\n",
    "\n",
    "groups = []\n",
    "for patient in users:\n",
    "    if len(patient[category]) > 1000:\n",
    "        groups.append(patient[category])\n",
    "\n",
    "# groups = groups[:8]"
   ]
  },
  {
   "cell_type": "code",
   "execution_count": null,
   "metadata": {},
   "outputs": [
    {
     "name": "stderr",
     "output_type": "stream",
     "text": [
      "100%|██████████| 31/31 [03:30<00:00,  6.79s/it]\n"
     ]
    }
   ],
   "source": [
    "avg_intergroup = 0\n",
    "for group in groups:\n",
    "    avg_intergroup += relative_entropy(group[:len(group)//2], group[len(group)//2:])\n",
    "\n",
    "avg_intergroup /= len(groups)\n",
    "\n",
    "avg_betweengroup = 0\n",
    "count = 0\n",
    "for i in tqdm(range(len(groups))):\n",
    "    for j in range(i+1, len(groups)):\n",
    "        avg_betweengroup += relative_entropy(groups[i], groups[j])\n",
    "        count += 1\n",
    "\n",
    "avg_betweengroup /= count"
   ]
  },
  {
   "cell_type": "code",
   "execution_count": null,
   "metadata": {},
   "outputs": [
    {
     "name": "stdout",
     "output_type": "stream",
     "text": [
      "0.2865419301914884 0.5695389923291716\n"
     ]
    }
   ],
   "source": [
    "print(avg_intergroup, avg_betweengroup)"
   ]
  },
  {
   "cell_type": "code",
   "execution_count": null,
   "metadata": {},
   "outputs": [
    {
     "data": {
      "text/plain": [
       "31"
      ]
     },
     "execution_count": 229,
     "metadata": {},
     "output_type": "execute_result"
    }
   ],
   "source": [
    "len(groups)"
   ]
  },
  {
   "cell_type": "code",
   "execution_count": null,
   "metadata": {},
   "outputs": [
    {
     "data": {
      "text/plain": [
       "(array([ 1.,  1.,  0.,  1.,  0.,  1.,  3.,  1.,  0.,  1.,  1.,  1.,  0.,\n",
       "         1.,  0.,  1.,  0.,  1.,  0.,  1.,  0.,  1.,  0.,  1.,  2.,  2.,\n",
       "         1.,  2.,  1.,  0.,  1.,  0.,  0.,  0.,  1.,  1.,  1.,  0.,  2.,\n",
       "         1.,  0.,  0.,  1.,  0.,  2.,  2.,  0.,  2.,  0.,  1.,  2.,  1.,\n",
       "         5.,  0.,  1.,  6.,  5.,  3.,  6., 17., 12., 16., 34., 34., 36.,\n",
       "        54., 66., 63., 75., 59., 68., 58., 73., 36., 29., 31., 24., 17.,\n",
       "        15., 12., 16., 19., 10.,  8.,  6., 12.,  8.,  3.,  2.,  2.,  1.,\n",
       "         0.,  2.,  5.,  0.,  1.,  1.,  3.,  2.,  1.]),\n",
       " array([-0.97480834, -0.95593017, -0.93705195, -0.91817379, -0.89929557,\n",
       "        -0.88041741, -0.86153919, -0.84266102, -0.8237828 , -0.80490464,\n",
       "        -0.78602642, -0.76714826, -0.74827003, -0.72939187, -0.71051365,\n",
       "        -0.69163549, -0.67275727, -0.65387911, -0.63500094, -0.61612272,\n",
       "        -0.59724456, -0.57836634, -0.55948818, -0.54060996, -0.52173179,\n",
       "        -0.50285357, -0.48397541, -0.46509722, -0.44621903, -0.42734084,\n",
       "        -0.40846264, -0.38958445, -0.37070626, -0.35182807, -0.33294988,\n",
       "        -0.31407169, -0.29519349, -0.2763153 , -0.25743711, -0.23855893,\n",
       "        -0.21968074, -0.20080255, -0.18192436, -0.16304617, -0.14416797,\n",
       "        -0.12528978, -0.1064116 , -0.08753341, -0.06865522, -0.04977703,\n",
       "        -0.03089884, -0.01202065,  0.00685754,  0.02573573,  0.04461392,\n",
       "         0.06349211,  0.0823703 ,  0.10124849,  0.12012668,  0.13900487,\n",
       "         0.15788306,  0.17676125,  0.19563945,  0.21451762,  0.23339581,\n",
       "         0.25227401,  0.2711522 ,  0.29003039,  0.30890858,  0.32778677,\n",
       "         0.34666497,  0.36554316,  0.38442135,  0.40329954,  0.42217773,\n",
       "         0.44105589,  0.45993409,  0.47881228,  0.49769047,  0.51656866,\n",
       "         0.53544688,  0.55432504,  0.57320327,  0.59208143,  0.61095959,\n",
       "         0.62983781,  0.64871597,  0.66759419,  0.68647236,  0.70535058,\n",
       "         0.72422874,  0.74310696,  0.76198512,  0.78086334,  0.79974151,\n",
       "         0.81861973,  0.83749789,  0.85637611,  0.87525427,  0.89413249,\n",
       "         0.91301066]),\n",
       " <BarContainer object of 100 artists>)"
      ]
     },
     "execution_count": 225,
     "metadata": {},
     "output_type": "execute_result"
    },
    {
     "data": {
      "image/png": "[encoded data removed]",
      "text/plain": [
       "<Figure size 640x480 with 1 Axes>"
      ]
     },
     "metadata": {},
     "output_type": "display_data"
    }
   ],
   "source": [
    "plt.hist(y[:,9], bins=100)"
   ]
  }
 ],
 "metadata": {
  "kernelspec": {
   "display_name": "Python 3",
   "language": "python",
   "name": "python3"
  },
  "language_info": {
   "codemirror_mode": {
    "name": "ipython",
    "version": 3
   },
   "file_extension": ".py",
   "mimetype": "text/x-python",
   "name": "python",
   "nbconvert_exporter": "python",
   "pygments_lexer": "ipython3",
   "version": "3.10.12"
  }
 },
 "nbformat": 4,
 "nbformat_minor": 2
}

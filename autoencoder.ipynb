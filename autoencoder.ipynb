{
 "cells": [
  {
   "cell_type": "code",
   "execution_count": 20,
   "metadata": {},
   "outputs": [],
   "source": [
    "import torch\n",
    "from torch.utils.data import Dataset, DataLoader, SubsetRandomSampler\n",
    "from torch import nn\n",
    "import torch.nn.functional as F\n",
    "import torch.optim as optim\n",
    "\n",
    "import pandas as pd\n",
    "import numpy as np\n",
    "import io\n",
    "\n",
    "import seaborn as sns\n",
    "from sklearn.metrics import confusion_matrix\n",
    "from sklearn.model_selection import KFold\n",
    "\n",
    "import matplotlib.pyplot as plt"
   ]
  },
  {
   "cell_type": "code",
   "execution_count": 21,
   "metadata": {},
   "outputs": [],
   "source": [
    "from utils import *\n",
    "from data import *\n",
    "from models import *\n",
    "from train import *"
   ]
  },
  {
   "cell_type": "code",
   "execution_count": 22,
   "metadata": {},
   "outputs": [],
   "source": [
    "%run data.py\n",
    "%run utils.py\n",
    "%run models.py\n",
    "%run train.py"
   ]
  },
  {
   "cell_type": "code",
   "execution_count": 23,
   "metadata": {},
   "outputs": [],
   "source": [
    "device = torch.device(\"cuda\" if torch.cuda.is_available() else \"cpu\")"
   ]
  },
  {
   "cell_type": "markdown",
   "metadata": {},
   "source": [
    "# Data Import"
   ]
  },
  {
   "cell_type": "code",
   "execution_count": 24,
   "metadata": {},
   "outputs": [],
   "source": [
    "data_mit = import_mit_data()"
   ]
  },
  {
   "cell_type": "code",
   "execution_count": 25,
   "metadata": {},
   "outputs": [
    {
     "name": "stderr",
     "output_type": "stream",
     "text": [
      "100%|██████████| 48/48 [00:59<00:00,  1.24s/it]\n"
     ]
    }
   ],
   "source": [
    "beats = []\n",
    "freq = 360\n",
    "\n",
    "for i,patient in tqdm(enumerate(data_mit), total=len(data_mit)):\n",
    "    for waveform, label in patient:\n",
    "        rpeaks = wfdb.processing.xqrs_detect(waveform, fs=freq, verbose=False)\n",
    "\n",
    "        for peak in rpeaks:\n",
    "            if peak >= freq/2 and peak < len(waveform) - freq/2:\n",
    "                partial_wave = waveform[peak-freq//2:peak+freq//2]\n",
    "                partial_wave,_ = pywt.dwt(partial_wave, 'db6')\n",
    "                partial_wave,_ = pywt.dwt(partial_wave, 'db6')\n",
    "                beats.append((partial_wave, label, i)) "
   ]
  },
  {
   "cell_type": "code",
   "execution_count": 26,
   "metadata": {},
   "outputs": [
    {
     "data": {
      "image/png": "[encoded data removed]",
      "text/plain": [
       "<Figure size 640x480 with 1 Axes>"
      ]
     },
     "metadata": {},
     "output_type": "display_data"
    }
   ],
   "source": [
    "def plotbeat(x):\n",
    "    if type(x) is tuple:\n",
    "        plt.plot(x[0])\n",
    "    else:\n",
    "        plt.plot(x)\n",
    "\n",
    "plotbeat(beats[0])"
   ]
  },
  {
   "cell_type": "markdown",
   "metadata": {},
   "source": [
    "# Dataset"
   ]
  },
  {
   "cell_type": "code",
   "execution_count": 27,
   "metadata": {},
   "outputs": [],
   "source": [
    "labels = list(set([x[1] for x in beats]))\n",
    "label_map = {label:i for i,label in enumerate(labels)}"
   ]
  },
  {
   "cell_type": "code",
   "execution_count": 32,
   "metadata": {},
   "outputs": [
    {
     "name": "stderr",
     "output_type": "stream",
     "text": [
      "100%|██████████| 76851/76851 [00:02<00:00, 27962.75it/s]\n"
     ]
    }
   ],
   "source": [
    "class BeatDataset(Dataset):\n",
    "    def __init__(self, data, device, label_map, specify_patient=None):\n",
    "        self.data = []\n",
    "\n",
    "        for waveform, label, patient in tqdm(data):\n",
    "            if specify_patient:\n",
    "                if patient != specify_patient:\n",
    "                    continue\n",
    "                \n",
    "\n",
    "            ## Z-score Normalisation\n",
    "            waveform = (waveform - waveform.mean()) / waveform.std()\n",
    "\n",
    "            self.data.append((\n",
    "                torch.tensor(waveform, device=device, dtype=torch.float32),\n",
    "                torch.tensor(label_map[label], device=device),\n",
    "                patient\n",
    "            ))\n",
    "\n",
    "    def __len__(self):\n",
    "        return len(self.data)\n",
    "    \n",
    "    def __getitem__(self, idx):\n",
    "        waveform, label, patient = self.data[idx]\n",
    "\n",
    "        return waveform, label\n",
    "    \n",
    "beat_dataset = BeatDataset(beats, device, label_map)\n",
    "beat_dataloader = DataLoader(beat_dataset, batch_size=512, shuffle=True)"
   ]
  },
  {
   "cell_type": "code",
   "execution_count": 34,
   "metadata": {},
   "outputs": [],
   "source": [
    "class Encoder(nn.Module):\n",
    "    def __init__(self, embedding_dim=32):\n",
    "        super().__init__()\n",
    "\n",
    "        self.lstm1 = nn.LSTM(input_size=1, hidden_size=embedding_dim, batch_first=True)\n",
    "        self.dropout = nn.Dropout(0.1)\n",
    "        self.lstm2 = nn.LSTM(input_size=embedding_dim, hidden_size=embedding_dim, batch_first=True)\n",
    "\n",
    "    def forward(self, x):\n",
    "        x = x.reshape((x.shape[0], x.shape[1], 1))\n",
    "        x, _ = self.lstm1(x)\n",
    "        x = self.dropout(x)\n",
    "        _, hidden = self.lstm2(x)\n",
    "\n",
    "        # return lstm_out[:,-1,:]\n",
    "        return hidden\n",
    "    \n",
    "class Decoder(nn.Module):\n",
    "    def __init__(self, seq_len=98, embedding_dim=32):\n",
    "        super().__init__()\n",
    "\n",
    "        self.seq_len = seq_len\n",
    "        \n",
    "        self.lstm1 = nn.LSTM(input_size=embedding_dim, hidden_size=embedding_dim, batch_first=True)\n",
    "        self.dropout1 = nn.Dropout(0.1)\n",
    "        self.lstm2 = nn.LSTM(input_size=embedding_dim, hidden_size=embedding_dim, batch_first=True)\n",
    "        self.output_layer = nn.Linear(embedding_dim, 1)\n",
    "\n",
    "    def forward(self, x):\n",
    "        # x = x.unsqueeze(1).repeat(1,self.seq_len,1)\n",
    "        x,_ = self.lstm1(torch.zeros([x[0].shape[1], self.seq_len, x[0].shape[2]], device=x[0].device), x)\n",
    "        x = self.dropout1(x)\n",
    "        x,_ = self.lstm2(x)\n",
    "        x = self.dropout2(x)\n",
    "        x = self.output_layer(x)\n",
    "\n",
    "        return x.squeeze(2)\n",
    "\n",
    "class AEModel(nn.Module):\n",
    "    def __init__(self, embedding_dim=32):\n",
    "        super().__init__()\n",
    "\n",
    "        self.encoder = Encoder(embedding_dim=embedding_dim)\n",
    "        self.decoder = Decoder(embedding_dim=embedding_dim)\n",
    "\n",
    "    def forward(self, x):\n",
    "        x = self.encoder(x)\n",
    "        x = self.decoder(x)\n",
    "        return x\n",
    "\n",
    "model = AEModel(embedding_dim=16).to(device)\n",
    "# model.load_state_dict(torch.load('autoencoder.pt'))"
   ]
  },
  {
   "cell_type": "code",
   "execution_count": 35,
   "metadata": {},
   "outputs": [],
   "source": [
    "criterion = nn.MSELoss()\n",
    "optimizer = optim.Adam(model.parameters())\n",
    "\n",
    "losses = []"
   ]
  },
  {
   "cell_type": "code",
   "execution_count": 126,
   "metadata": {},
   "outputs": [
    {
     "name": "stdout",
     "output_type": "stream",
     "text": [
      "epoch 0, loss 8.959041949361563\n",
      "epoch 10, loss 8.69354048371315\n",
      "epoch 20, loss 8.585966929793358\n",
      "epoch 30, loss 8.660970024764538\n",
      "epoch 40, loss 9.202951058745384\n",
      "epoch 50, loss 8.540227323770523\n",
      "epoch 60, loss 8.723587162792683\n",
      "epoch 70, loss 8.788103766739368\n",
      "epoch 80, loss 8.49724105373025\n",
      "epoch 90, loss 8.472108736634254\n",
      "epoch 100, loss 8.668587945401669\n",
      "epoch 110, loss 8.277808774262667\n",
      "epoch 120, loss 8.255933191627264\n",
      "epoch 130, loss 8.849709276109934\n",
      "epoch 140, loss 8.428539156913757\n",
      "epoch 150, loss 8.421282637864351\n",
      "epoch 160, loss 9.71149880439043\n",
      "epoch 170, loss 8.462576914578676\n",
      "epoch 180, loss 8.547375969588757\n",
      "epoch 190, loss 8.41877919062972\n",
      "epoch 200, loss 8.544829428195953\n",
      "epoch 210, loss 8.373197015374899\n",
      "epoch 220, loss 8.390193324536085\n",
      "epoch 230, loss 8.087052579969168\n",
      "epoch 240, loss 8.24352415651083\n",
      "epoch 250, loss 7.998540807515383\n",
      "epoch 260, loss 7.991169009357691\n",
      "epoch 270, loss 8.004027847200632\n",
      "epoch 280, loss 8.637456480413675\n",
      "epoch 290, loss 7.909388683736324\n",
      "epoch 300, loss 7.974030405282974\n",
      "epoch 310, loss 8.215171404182911\n",
      "epoch 320, loss 7.788670655339956\n",
      "epoch 330, loss 7.874642834067345\n",
      "epoch 340, loss 7.792016047984362\n",
      "epoch 350, loss 7.668071065098047\n",
      "epoch 360, loss 7.9270121194422245\n",
      "epoch 370, loss 7.702792949974537\n",
      "epoch 380, loss 7.755797173827887\n",
      "epoch 390, loss 8.157897014170885\n",
      "epoch 400, loss 7.658946555107832\n",
      "epoch 410, loss 7.4772934801876545\n",
      "epoch 420, loss 7.53400320187211\n",
      "epoch 430, loss 7.958311900496483\n",
      "epoch 440, loss 7.374546125531197\n",
      "epoch 450, loss 7.400468494743109\n",
      "epoch 460, loss 7.368417838588357\n",
      "epoch 470, loss 7.9595600590109825\n",
      "epoch 480, loss 8.005409773439169\n",
      "epoch 490, loss 7.624251417815685\n",
      "epoch 500, loss 7.224464017897844\n",
      "epoch 510, loss 7.616769023239613\n",
      "epoch 520, loss 7.296892525628209\n",
      "epoch 530, loss 7.224789813160896\n",
      "epoch 540, loss 7.406900394707918\n",
      "epoch 550, loss 7.473268646746874\n",
      "epoch 560, loss 7.276682799682021\n",
      "epoch 570, loss 7.136548586189747\n",
      "epoch 580, loss 7.475844688713551\n",
      "epoch 590, loss 7.3601517751812935\n",
      "epoch 600, loss 7.21290348097682\n",
      "epoch 610, loss 7.297735590487719\n",
      "epoch 620, loss 7.192233599722385\n",
      "epoch 630, loss 7.213417440652847\n",
      "epoch 640, loss 7.1958091370761395\n",
      "epoch 650, loss 7.209333006292582\n",
      "epoch 660, loss 7.271712899208069\n",
      "epoch 670, loss 7.048816259950399\n",
      "epoch 680, loss 7.857047695666552\n",
      "epoch 690, loss 7.337406363338232\n",
      "epoch 700, loss 7.761929593980312\n",
      "epoch 710, loss 7.226921666413546\n",
      "epoch 720, loss 7.669105917215347\n",
      "epoch 730, loss 6.808867547661066\n",
      "epoch 740, loss 6.91754737123847\n",
      "epoch 750, loss 6.9300918355584145\n",
      "epoch 760, loss 7.490551091730595\n",
      "epoch 770, loss 6.984942331910133\n",
      "epoch 780, loss 6.861730318516493\n",
      "epoch 790, loss 6.8428977988660336\n",
      "epoch 800, loss 6.850597769021988\n",
      "epoch 810, loss 7.054493278264999\n",
      "epoch 820, loss 7.121199261397123\n",
      "epoch 830, loss 8.115035641938448\n",
      "epoch 840, loss 7.043835312128067\n",
      "epoch 850, loss 7.007658865302801\n",
      "epoch 860, loss 6.794325366616249\n",
      "epoch 870, loss 6.738898117095232\n",
      "epoch 880, loss 6.601328302174807\n",
      "epoch 890, loss 7.1903847716748714\n",
      "epoch 900, loss 6.63807113468647\n",
      "epoch 910, loss 7.00362204015255\n",
      "epoch 920, loss 6.74396326392889\n",
      "epoch 930, loss 6.492547560483217\n",
      "epoch 940, loss 6.505875989794731\n",
      "epoch 950, loss 6.569641251116991\n",
      "epoch 960, loss 7.13671413064003\n",
      "epoch 970, loss 6.396858062595129\n",
      "epoch 980, loss 6.501152403652668\n",
      "epoch 990, loss 6.68227456137538\n"
     ]
    }
   ],
   "source": [
    "for epoch in range(1000):\n",
    "    model.train()\n",
    "\n",
    "    for i,batch in enumerate(beat_dataloader, 0):\n",
    "\n",
    "        optimizer.zero_grad()\n",
    "\n",
    "        seq, label = batch\n",
    "\n",
    "        seq_pred = model.forward(seq)\n",
    "\n",
    "        loss = criterion(seq, seq_pred)\n",
    "        loss.backward()\n",
    "        nn.utils.clip_grad_norm_(model.parameters(), max_norm=3.)\n",
    "        optimizer.step()\n",
    "\n",
    "    if epoch % 10 == 0:\n",
    "        model.eval()\n",
    "\n",
    "        totalloss = 0.\n",
    "\n",
    "        with torch.no_grad():\n",
    "            for i,batch in enumerate(beat_dataloader, 0):\n",
    "                seq, label = batch\n",
    "\n",
    "                seq_pred = model.forward(seq)\n",
    "\n",
    "                loss = criterion(seq, seq_pred)\n",
    "\n",
    "                totalloss += loss.item()\n",
    "\n",
    "        print(f'epoch {epoch}, loss {totalloss}')\n",
    "        losses.append(totalloss)"
   ]
  },
  {
   "cell_type": "code",
   "execution_count": 127,
   "metadata": {},
   "outputs": [],
   "source": [
    "torch.save(model.state_dict(), 'autoencoder16.pt')"
   ]
  },
  {
   "cell_type": "code",
   "execution_count": 142,
   "metadata": {},
   "outputs": [
    {
     "data": {
      "text/plain": [
       "[<matplotlib.lines.Line2D at 0x7f8d960b0970>]"
      ]
     },
     "execution_count": 142,
     "metadata": {},
     "output_type": "execute_result"
    },
    {
     "data": {
      "image/png": "[encoded data removed]",
      "text/plain": [
       "<Figure size 640x480 with 1 Axes>"
      ]
     },
     "metadata": {},
     "output_type": "display_data"
    }
   ],
   "source": [
    "plt.plot([np.log(x) for x in losses])"
   ]
  },
  {
   "cell_type": "code",
   "execution_count": 139,
   "metadata": {},
   "outputs": [
    {
     "data": {
      "text/plain": [
       "[<matplotlib.lines.Line2D at 0x7f8d96154430>]"
      ]
     },
     "execution_count": 139,
     "metadata": {},
     "output_type": "execute_result"
    },
    {
     "data": {
      "image/png": "[encoded data removed]",
      "text/plain": [
       "<Figure size 640x480 with 1 Axes>"
      ]
     },
     "metadata": {},
     "output_type": "display_data"
    }
   ],
   "source": [
    "i = 5327\n",
    "\n",
    "seq, label, _ = beats[i]\n",
    "seq = torch.tensor(seq, dtype=torch.float32, device=device)\n",
    "seq = seq.reshape((1,98))\n",
    "model.eval()\n",
    "seq_pred = model.forward(seq)\n",
    "\n",
    "plt.plot(seq.detach().cpu().numpy().reshape(-1))\n",
    "plt.plot(seq_pred.detach().cpu().numpy().reshape(-1))\n"
   ]
  },
  {
   "cell_type": "markdown",
   "metadata": {},
   "source": [
    "# Distribution Difference"
   ]
  },
  {
   "cell_type": "code",
   "execution_count": 175,
   "metadata": {},
   "outputs": [],
   "source": []
  },
  {
   "cell_type": "code",
   "execution_count": 169,
   "metadata": {},
   "outputs": [],
   "source": [
    "users = [{key:[] for key in label_map.keys()} for i in range(48)]\n",
    "\n",
    "for beat in beats:\n",
    "    users[beat[2]][beat[1]].append(beat[0])"
   ]
  },
  {
   "cell_type": "code",
   "execution_count": 170,
   "metadata": {},
   "outputs": [
    {
     "data": {
      "text/plain": [
       "{'P': 0, 'R': 1, 'V': 2, 'N': 3, 'L': 4}"
      ]
     },
     "execution_count": 170,
     "metadata": {},
     "output_type": "execute_result"
    }
   ],
   "source": [
    "label_map"
   ]
  },
  {
   "cell_type": "code",
   "execution_count": 213,
   "metadata": {},
   "outputs": [
    {
     "data": {
      "text/plain": [
       "[0, 0, 16, 1910, 0]"
      ]
     },
     "execution_count": 213,
     "metadata": {},
     "output_type": "execute_result"
    }
   ],
   "source": [
    "[len(x) for x in users[12].values()]"
   ]
  },
  {
   "cell_type": "code",
   "execution_count": 219,
   "metadata": {},
   "outputs": [
    {
     "name": "stdout",
     "output_type": "stream",
     "text": [
      "0.7498314842870284\n"
     ]
    }
   ],
   "source": [
    "from sklearn.neighbors import KernelDensity\n",
    "from scipy.spatial.distance import jensenshannon\n",
    "from scipy.stats import entropy\n",
    "\n",
    "def encode(beats):\n",
    "    values = np.stack(beats, axis=1).reshape((-1, 98))\n",
    "    seq = torch.tensor(values, dtype=torch.float32, device=device)\n",
    "    model.eval()\n",
    "    with torch.no_grad():\n",
    "        encoded = model.encoder.forward(seq)\n",
    "    encoded = torch.concat(encoded, dim=2).squeeze(0)\n",
    "    return encoded\n",
    "\n",
    "def relative_entropy(beats_1, beats_2):\n",
    "    encode_1 = encode(beats_1).detach().cpu().numpy()\n",
    "    encode_2 = encode(beats_2).detach().cpu().numpy()\n",
    "\n",
    "    kde_D1 = KernelDensity(bandwidth=1.0, kernel='gaussian').fit(encode_1)\n",
    "    kde_D2 = KernelDensity(bandwidth=1.0, kernel='gaussian').fit(encode_2)\n",
    "\n",
    "    X = np.vstack([encode_1, encode_2])\n",
    "\n",
    "    log_prob_D1 = kde_D1.score_samples(X)\n",
    "    log_prob_D2 = kde_D2.score_samples(X)\n",
    "\n",
    "    prob_D1 = np.exp(log_prob_D1)\n",
    "    prob_D2 = np.exp(log_prob_D2)\n",
    "\n",
    "    # Calculate the KL divergence\n",
    "    kl_divergence = jensenshannon(prob_D1, prob_D2)\n",
    "\n",
    "    print(kl_divergence)\n",
    "\n",
    "    return encode_1, encode_2\n",
    "\n",
    "group_1 = users[9]['N'][:1000]\n",
    "# group_2 = users[9]['N'][1000:]\n",
    "group_2 = users[12]['N'][:1000]\n",
    "# group_2 = users[20]['R'][:1000]\n",
    "\n",
    "x,y = relative_entropy(group_1, group_2)"
   ]
  },
  {
   "cell_type": "code",
   "execution_count": 225,
   "metadata": {},
   "outputs": [
    {
     "data": {
      "text/plain": [
       "(array([ 1.,  1.,  0.,  1.,  0.,  1.,  3.,  1.,  0.,  1.,  1.,  1.,  0.,\n",
       "         1.,  0.,  1.,  0.,  1.,  0.,  1.,  0.,  1.,  0.,  1.,  2.,  2.,\n",
       "         1.,  2.,  1.,  0.,  1.,  0.,  0.,  0.,  1.,  1.,  1.,  0.,  2.,\n",
       "         1.,  0.,  0.,  1.,  0.,  2.,  2.,  0.,  2.,  0.,  1.,  2.,  1.,\n",
       "         5.,  0.,  1.,  6.,  5.,  3.,  6., 17., 12., 16., 34., 34., 36.,\n",
       "        54., 66., 63., 75., 59., 68., 58., 73., 36., 29., 31., 24., 17.,\n",
       "        15., 12., 16., 19., 10.,  8.,  6., 12.,  8.,  3.,  2.,  2.,  1.,\n",
       "         0.,  2.,  5.,  0.,  1.,  1.,  3.,  2.,  1.]),\n",
       " array([-0.97480834, -0.95593017, -0.93705195, -0.91817379, -0.89929557,\n",
       "        -0.88041741, -0.86153919, -0.84266102, -0.8237828 , -0.80490464,\n",
       "        -0.78602642, -0.76714826, -0.74827003, -0.72939187, -0.71051365,\n",
       "        -0.69163549, -0.67275727, -0.65387911, -0.63500094, -0.61612272,\n",
       "        -0.59724456, -0.57836634, -0.55948818, -0.54060996, -0.52173179,\n",
       "        -0.50285357, -0.48397541, -0.46509722, -0.44621903, -0.42734084,\n",
       "        -0.40846264, -0.38958445, -0.37070626, -0.35182807, -0.33294988,\n",
       "        -0.31407169, -0.29519349, -0.2763153 , -0.25743711, -0.23855893,\n",
       "        -0.21968074, -0.20080255, -0.18192436, -0.16304617, -0.14416797,\n",
       "        -0.12528978, -0.1064116 , -0.08753341, -0.06865522, -0.04977703,\n",
       "        -0.03089884, -0.01202065,  0.00685754,  0.02573573,  0.04461392,\n",
       "         0.06349211,  0.0823703 ,  0.10124849,  0.12012668,  0.13900487,\n",
       "         0.15788306,  0.17676125,  0.19563945,  0.21451762,  0.23339581,\n",
       "         0.25227401,  0.2711522 ,  0.29003039,  0.30890858,  0.32778677,\n",
       "         0.34666497,  0.36554316,  0.38442135,  0.40329954,  0.42217773,\n",
       "         0.44105589,  0.45993409,  0.47881228,  0.49769047,  0.51656866,\n",
       "         0.53544688,  0.55432504,  0.57320327,  0.59208143,  0.61095959,\n",
       "         0.62983781,  0.64871597,  0.66759419,  0.68647236,  0.70535058,\n",
       "         0.72422874,  0.74310696,  0.76198512,  0.78086334,  0.79974151,\n",
       "         0.81861973,  0.83749789,  0.85637611,  0.87525427,  0.89413249,\n",
       "         0.91301066]),\n",
       " <BarContainer object of 100 artists>)"
      ]
     },
     "execution_count": 225,
     "metadata": {},
     "output_type": "execute_result"
    },
    {
     "data": {
      "image/png": "[encoded data removed]",
      "text/plain": [
       "<Figure size 640x480 with 1 Axes>"
      ]
     },
     "metadata": {},
     "output_type": "display_data"
    }
   ],
   "source": [
    "plt.hist(y[:,9], bins=100)"
   ]
  }
 ],
 "metadata": {
  "kernelspec": {
   "display_name": "Python 3",
   "language": "python",
   "name": "python3"
  },
  "language_info": {
   "codemirror_mode": {
    "name": "ipython",
    "version": 3
   },
   "file_extension": ".py",
   "mimetype": "text/x-python",
   "name": "python",
   "nbconvert_exporter": "python",
   "pygments_lexer": "ipython3",
   "version": "3.10.12"
  }
 },
 "nbformat": 4,
 "nbformat_minor": 2
}

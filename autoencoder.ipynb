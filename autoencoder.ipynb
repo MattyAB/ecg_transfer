{
 "cells": [
  {
   "cell_type": "code",
   "execution_count": 61,
   "metadata": {},
   "outputs": [],
   "source": [
    "import torch\n",
    "from torch.utils.data import Dataset, DataLoader, SubsetRandomSampler\n",
    "from torch import nn\n",
    "import torch.nn.functional as F\n",
    "import torch.optim as optim\n",
    "\n",
    "import pandas as pd\n",
    "import numpy as np\n",
    "import io\n",
    "\n",
    "import seaborn as sns\n",
    "from sklearn.metrics import confusion_matrix\n",
    "from sklearn.model_selection import KFold\n",
    "\n",
    "import matplotlib.pyplot as plt\n",
    "\n",
    "from sklearn.neighbors import KernelDensity\n",
    "from scipy.spatial.distance import jensenshannon\n",
    "from scipy.stats import entropy"
   ]
  },
  {
   "cell_type": "code",
   "execution_count": 62,
   "metadata": {},
   "outputs": [],
   "source": [
    "from utils import *\n",
    "from data import *\n",
    "from models import *\n",
    "from train import *"
   ]
  },
  {
   "cell_type": "code",
   "execution_count": 63,
   "metadata": {},
   "outputs": [],
   "source": [
    "%run data.py\n",
    "%run utils.py\n",
    "%run models.py\n",
    "%run train.py"
   ]
  },
  {
   "cell_type": "code",
   "execution_count": 64,
   "metadata": {},
   "outputs": [],
   "source": [
    "device = torch.device(\"cuda\" if torch.cuda.is_available() else \"cpu\")"
   ]
  },
  {
   "cell_type": "markdown",
   "metadata": {},
   "source": [
    "# Data Import"
   ]
  },
  {
   "cell_type": "code",
   "execution_count": 65,
   "metadata": {},
   "outputs": [],
   "source": [
    "data_mit = import_mit_data()"
   ]
  },
  {
   "cell_type": "code",
   "execution_count": 66,
   "metadata": {},
   "outputs": [
    {
     "name": "stderr",
     "output_type": "stream",
     "text": [
      "100%|██████████| 48/48 [01:15<00:00,  1.57s/it]\n"
     ]
    }
   ],
   "source": [
    "beats = []\n",
    "freq = 360\n",
    "\n",
    "for i,patient in tqdm(enumerate(data_mit), total=len(data_mit)):\n",
    "    for waveform, label in patient:\n",
    "        rpeaks = wfdb.processing.xqrs_detect(waveform, fs=freq, verbose=False)\n",
    "\n",
    "        for peak in rpeaks:\n",
    "            if peak >= freq/2 and peak < len(waveform) - freq/2:\n",
    "                partial_wave = waveform[peak-freq//2:peak+freq//2]\n",
    "                partial_wave,_ = pywt.dwt(partial_wave, 'db6')\n",
    "                partial_wave,_ = pywt.dwt(partial_wave, 'db6')\n",
    "                beats.append((partial_wave, label, i)) "
   ]
  },
  {
   "cell_type": "code",
   "execution_count": 67,
   "metadata": {},
   "outputs": [
    {
     "data": {
      "image/png": "[encoded data removed]",
      "text/plain": [
       "<Figure size 640x480 with 1 Axes>"
      ]
     },
     "metadata": {},
     "output_type": "display_data"
    }
   ],
   "source": [
    "def plotbeat(x):\n",
    "    if type(x) is tuple:\n",
    "        plt.plot(x[0])\n",
    "    else:\n",
    "        plt.plot(x)\n",
    "\n",
    "plotbeat(beats[0])"
   ]
  },
  {
   "cell_type": "markdown",
   "metadata": {},
   "source": [
    "# Dataset"
   ]
  },
  {
   "cell_type": "code",
   "execution_count": 68,
   "metadata": {},
   "outputs": [],
   "source": [
    "labels = list(set([x[1] for x in beats]))\n",
    "label_map = {label:i for i,label in enumerate(labels)}"
   ]
  },
  {
   "cell_type": "code",
   "execution_count": 69,
   "metadata": {},
   "outputs": [
    {
     "name": "stderr",
     "output_type": "stream",
     "text": [
      "100%|██████████| 76851/76851 [00:06<00:00, 11440.68it/s]\n"
     ]
    }
   ],
   "source": [
    "class BeatDataset(Dataset):\n",
    "    def __init__(self, data, device, label_map, specify_patient=None):\n",
    "        self.data = []\n",
    "\n",
    "        for waveform, label, patient in tqdm(data):\n",
    "            if specify_patient:\n",
    "                if patient != specify_patient:\n",
    "                    continue\n",
    "                \n",
    "\n",
    "            ## Z-score Normalisation\n",
    "            waveform = (waveform - waveform.mean()) / waveform.std()\n",
    "\n",
    "            self.data.append((\n",
    "                torch.tensor(waveform, device=device, dtype=torch.float32),\n",
    "                torch.tensor(label_map[label], device=device),\n",
    "                patient\n",
    "            ))\n",
    "\n",
    "    def __len__(self):\n",
    "        return len(self.data)\n",
    "    \n",
    "    def __getitem__(self, idx):\n",
    "        waveform, label, patient = self.data[idx]\n",
    "\n",
    "        return waveform, label\n",
    "    \n",
    "beat_dataset = BeatDataset(beats, device, label_map)\n",
    "beat_dataloader = DataLoader(beat_dataset, batch_size=128, shuffle=True)"
   ]
  },
  {
   "cell_type": "code",
   "execution_count": 70,
   "metadata": {},
   "outputs": [],
   "source": [
    "class Encoder(nn.Module):\n",
    "    def __init__(self, embedding_dim=32):\n",
    "        super().__init__()\n",
    "\n",
    "        self.lstm1 = nn.LSTM(input_size=1, hidden_size=embedding_dim, batch_first=True)\n",
    "        self.dropout = nn.Dropout(0.05)\n",
    "        self.lstm2 = nn.LSTM(input_size=embedding_dim, hidden_size=embedding_dim, batch_first=True)\n",
    "\n",
    "    def forward(self, x):\n",
    "        x = x.reshape((x.shape[0], x.shape[1], 1))\n",
    "        x, _ = self.lstm1(x)\n",
    "        x = self.dropout(x)\n",
    "        _, hidden = self.lstm2(x)\n",
    "\n",
    "        # return lstm_out[:,-1,:]\n",
    "        return hidden\n",
    "    \n",
    "class Decoder(nn.Module):\n",
    "    def __init__(self, seq_len=98, embedding_dim=32):\n",
    "        super().__init__()\n",
    "\n",
    "        self.seq_len = seq_len\n",
    "        \n",
    "        self.lstm1 = nn.LSTM(input_size=embedding_dim, hidden_size=embedding_dim, batch_first=True)\n",
    "        self.dropout = nn.Dropout(0.05)\n",
    "        self.lstm2 = nn.LSTM(input_size=embedding_dim, hidden_size=embedding_dim, batch_first=True)\n",
    "        self.output_layer = nn.Linear(embedding_dim, 1)\n",
    "\n",
    "    def forward(self, x):\n",
    "        # x = x.unsqueeze(1).repeat(1,self.seq_len,1)\n",
    "        x,_ = self.lstm1(torch.zeros([x[0].shape[1], self.seq_len, x[0].shape[2]], device=x[0].device), x)\n",
    "        x = self.dropout(x)\n",
    "        x,_ = self.lstm2(x)\n",
    "        x = self.output_layer(x)\n",
    "\n",
    "        return x.squeeze(2)\n",
    "\n",
    "class AEModel(nn.Module):\n",
    "    def __init__(self, embedding_dim=32):\n",
    "        super().__init__()\n",
    "\n",
    "        self.encoder = Encoder(embedding_dim=embedding_dim)\n",
    "        self.decoder = Decoder(embedding_dim=embedding_dim)\n",
    "\n",
    "    def forward(self, x):\n",
    "        x = self.encoder(x)\n",
    "        x = self.decoder(x)\n",
    "        return x\n",
    "\n",
    "model = AEModel(embedding_dim=32).to(device)\n",
    "# model.load_state_dict(torch.load('autoencoder.pt'))"
   ]
  },
  {
   "cell_type": "code",
   "execution_count": 71,
   "metadata": {},
   "outputs": [],
   "source": [
    "criterion = nn.MSELoss()\n",
    "optimizer = optim.Adam(model.parameters())\n",
    "\n",
    "losses = []"
   ]
  },
  {
   "cell_type": "code",
   "execution_count": 72,
   "metadata": {},
   "outputs": [
    {
     "name": "stdout",
     "output_type": "stream",
     "text": [
      "epoch 0, loss 408.72707653045654\n",
      "epoch 10, loss 190.91562044620514\n",
      "epoch 20, loss 102.91941507160664\n",
      "epoch 30, loss 78.32297296822071\n",
      "epoch 40, loss 72.80006041377783\n",
      "epoch 50, loss 48.87004900723696\n",
      "epoch 60, loss 50.44672571122646\n",
      "epoch 70, loss 42.02945065125823\n",
      "epoch 80, loss 35.97989794239402\n",
      "epoch 90, loss 34.92661710828543\n",
      "epoch 100, loss 32.40993409231305\n",
      "epoch 110, loss 29.929941032081842\n",
      "epoch 120, loss 28.13510636612773\n",
      "epoch 130, loss 26.373012417927384\n",
      "epoch 140, loss 23.687589958310127\n",
      "epoch 150, loss 25.14092205837369\n",
      "epoch 160, loss 24.29693783633411\n",
      "epoch 170, loss 27.1938245780766\n",
      "epoch 180, loss 23.673396347090602\n",
      "epoch 190, loss 22.052726078778505\n",
      "epoch 200, loss 21.95842389948666\n",
      "epoch 210, loss 22.442779503762722\n",
      "epoch 220, loss 20.323004549369216\n",
      "epoch 230, loss 21.82434180006385\n",
      "epoch 240, loss 19.86348621174693\n",
      "epoch 250, loss 19.70172635279596\n",
      "epoch 260, loss 21.98808266967535\n",
      "epoch 270, loss 20.71210964396596\n",
      "epoch 280, loss 18.77197632007301\n",
      "epoch 290, loss 18.803141187876463\n",
      "epoch 300, loss 17.784612154588103\n",
      "epoch 310, loss 17.2819172590971\n",
      "epoch 320, loss 16.841008886694908\n",
      "epoch 330, loss 21.01189167611301\n",
      "epoch 340, loss 16.708483451977372\n",
      "epoch 350, loss 25.45216154307127\n",
      "epoch 360, loss 17.186167929321527\n",
      "epoch 370, loss 17.333869572728872\n",
      "epoch 380, loss 17.288601459935308\n",
      "epoch 390, loss 18.949085710570216\n",
      "epoch 400, loss 19.590996585786343\n",
      "epoch 410, loss 19.961404107511044\n",
      "epoch 420, loss 15.645781008526683\n",
      "epoch 430, loss 15.037140850909054\n",
      "epoch 440, loss 15.852324023842812\n",
      "epoch 450, loss 15.010038316249847\n",
      "epoch 460, loss 15.062976900488138\n",
      "epoch 470, loss 14.06373301986605\n",
      "epoch 480, loss 15.237802281975746\n",
      "epoch 490, loss 14.767387435771525\n",
      "epoch 500, loss 14.916232889518142\n",
      "epoch 510, loss 15.133905864320695\n",
      "epoch 520, loss 23.222078816965222\n",
      "epoch 530, loss 13.427381809800863\n",
      "epoch 540, loss 14.956922811456025\n",
      "epoch 550, loss 13.28661910444498\n",
      "epoch 560, loss 13.030293015763164\n",
      "epoch 570, loss 13.587100697681308\n",
      "epoch 580, loss 13.157742373645306\n",
      "epoch 590, loss 14.057479559443891\n",
      "epoch 600, loss 12.86537857260555\n",
      "epoch 610, loss 11.710459450259805\n",
      "epoch 620, loss 11.802461862564087\n",
      "epoch 630, loss 11.553969660773873\n",
      "epoch 640, loss 11.556618831120431\n",
      "epoch 650, loss 13.002498240210116\n",
      "epoch 660, loss 12.12387091293931\n",
      "epoch 670, loss 11.710005822591484\n",
      "epoch 680, loss 11.926135228015482\n",
      "epoch 690, loss 12.57985748257488\n",
      "epoch 700, loss 14.703051816672087\n",
      "epoch 710, loss 14.2639030367136\n",
      "epoch 720, loss 12.634964139200747\n",
      "epoch 730, loss 13.025791601277888\n",
      "epoch 740, loss 11.748674159869552\n",
      "epoch 750, loss 11.205260107293725\n",
      "epoch 760, loss 10.871508284471929\n",
      "epoch 770, loss 11.943666320294142\n",
      "epoch 780, loss 10.952435187995434\n",
      "epoch 790, loss 10.66969736944884\n",
      "epoch 800, loss 10.532996979542077\n",
      "epoch 810, loss 9.973894000984728\n",
      "epoch 820, loss 14.492895883508027\n",
      "epoch 830, loss 10.081248538568616\n",
      "epoch 840, loss 9.600723408162594\n",
      "epoch 850, loss 22.661514777690172\n",
      "epoch 860, loss 9.663987020030618\n",
      "epoch 870, loss 10.835332718677819\n",
      "epoch 880, loss 9.118791981600225\n",
      "epoch 890, loss 10.189615285024047\n",
      "epoch 900, loss 9.24637198727578\n",
      "epoch 910, loss 8.758612080011517\n",
      "epoch 920, loss 9.06679089833051\n",
      "epoch 930, loss 9.289098181761801\n",
      "epoch 940, loss 9.098521119914949\n",
      "epoch 950, loss 9.286099650897086\n",
      "epoch 960, loss 9.101130998693407\n",
      "epoch 970, loss 8.397489461116493\n",
      "epoch 980, loss 10.444023435935378\n",
      "epoch 990, loss 8.36195933073759\n",
      "epoch 1000, loss 8.91565023176372\n",
      "epoch 1010, loss 8.248773728497326\n",
      "epoch 1020, loss 8.087348674423993\n",
      "epoch 1030, loss 9.223196321167052\n",
      "epoch 1040, loss 8.030502759851515\n",
      "epoch 1050, loss 8.234986579976976\n",
      "epoch 1060, loss 8.129935188218951\n",
      "epoch 1070, loss 7.799955228343606\n",
      "epoch 1080, loss 7.783229518216103\n",
      "epoch 1090, loss 7.963947971351445\n",
      "epoch 1100, loss 8.647858925163746\n",
      "epoch 1110, loss 7.743933448102325\n",
      "epoch 1120, loss 7.81573920417577\n",
      "epoch 1130, loss 7.480493638198823\n",
      "epoch 1140, loss 7.772146604489535\n",
      "epoch 1150, loss 8.972258417867124\n",
      "epoch 1160, loss 7.770239353179932\n",
      "epoch 1170, loss 8.065020891837776\n",
      "epoch 1180, loss 7.814626124221832\n",
      "epoch 1190, loss 7.814282992854714\n",
      "epoch 1200, loss 7.805593752302229\n",
      "epoch 1210, loss 7.41843745065853\n",
      "epoch 1220, loss 7.547790473792702\n",
      "epoch 1230, loss 7.6107995877973735\n",
      "epoch 1240, loss 7.781860990449786\n",
      "epoch 1250, loss 7.608055163174868\n",
      "epoch 1260, loss 7.819634355604649\n",
      "epoch 1270, loss 7.496827390510589\n",
      "epoch 1280, loss 7.480372521560639\n",
      "epoch 1290, loss 7.602476066444069\n",
      "epoch 1300, loss 7.411634178832173\n",
      "epoch 1310, loss 7.021892164368182\n",
      "epoch 1320, loss 6.832263495773077\n",
      "epoch 1330, loss 6.938442285172641\n",
      "epoch 1340, loss 7.496201153378934\n",
      "epoch 1350, loss 7.255334072280675\n",
      "epoch 1360, loss 7.278562248684466\n",
      "epoch 1370, loss 7.575559999793768\n",
      "epoch 1380, loss 7.086661490611732\n",
      "epoch 1390, loss 7.335085490718484\n",
      "epoch 1400, loss 8.354987079277635\n",
      "epoch 1410, loss 7.389468535315245\n",
      "epoch 1420, loss 7.361866453662515\n",
      "epoch 1430, loss 6.841530574019998\n",
      "epoch 1440, loss 7.27181799383834\n",
      "epoch 1450, loss 7.020876416936517\n",
      "epoch 1460, loss 7.30609938595444\n",
      "epoch 1470, loss 6.5130378059111536\n",
      "epoch 1480, loss 7.54059062153101\n",
      "epoch 1490, loss 7.36522148642689\n",
      "epoch 1500, loss 7.2355071641504765\n",
      "epoch 1510, loss 7.1177279516123235\n",
      "epoch 1520, loss 6.816030083224177\n",
      "epoch 1530, loss 7.269175400026143\n",
      "epoch 1540, loss 6.87107906723395\n",
      "epoch 1550, loss 6.826193862594664\n",
      "epoch 1560, loss 6.791712559759617\n",
      "epoch 1570, loss 7.169478381052613\n",
      "epoch 1580, loss 6.544829019345343\n",
      "epoch 1590, loss 6.751961210742593\n",
      "epoch 1600, loss 6.989688856061548\n",
      "epoch 1610, loss 6.597570249810815\n",
      "epoch 1620, loss 6.80265201581642\n",
      "epoch 1630, loss 6.649836314376444\n",
      "epoch 1640, loss 6.684652355965227\n",
      "epoch 1650, loss 6.72537287697196\n",
      "epoch 1660, loss 6.893102725967765\n",
      "epoch 1670, loss 6.505113924387842\n",
      "epoch 1680, loss 6.612065135966986\n",
      "epoch 1690, loss 6.740040708333254\n",
      "epoch 1700, loss 6.669032227247953\n",
      "epoch 1710, loss 6.964608282782137\n",
      "epoch 1720, loss 6.369769741781056\n",
      "epoch 1730, loss 6.066912082023919\n",
      "epoch 1740, loss 7.09571307618171\n",
      "epoch 1750, loss 8.617958447895944\n",
      "epoch 1760, loss 6.360286536626518\n",
      "epoch 1770, loss 6.837929074652493\n",
      "epoch 1780, loss 6.882667795289308\n",
      "epoch 1790, loss 6.5426977253519\n",
      "epoch 1800, loss 7.315948192030191\n",
      "epoch 1810, loss 6.769905370660126\n",
      "epoch 1820, loss 6.340695709455758\n",
      "epoch 1830, loss 6.54383686138317\n",
      "epoch 1840, loss 6.952716396190226\n",
      "epoch 1850, loss 6.512858481146395\n",
      "epoch 1860, loss 6.686118037905544\n",
      "epoch 1870, loss 6.672834597993642\n",
      "epoch 1880, loss 6.8709066160954535\n",
      "epoch 1890, loss 6.751834374386817\n",
      "epoch 1900, loss 6.129383019171655\n",
      "epoch 1910, loss 7.006487377453595\n",
      "epoch 1920, loss 6.616824044380337\n",
      "epoch 1930, loss 6.496142268180847\n",
      "epoch 1940, loss 6.883470550645143\n",
      "epoch 1950, loss 6.349834357853979\n",
      "epoch 1960, loss 6.391783496364951\n",
      "epoch 1970, loss 6.47949843108654\n",
      "epoch 1980, loss 7.155153938103467\n",
      "epoch 1990, loss 6.591125508770347\n",
      "epoch 2000, loss 6.3487408412620425\n",
      "epoch 2010, loss 6.390703285112977\n",
      "epoch 2020, loss 6.113636035937816\n",
      "epoch 2030, loss 6.2490067523904145\n",
      "epoch 2040, loss 6.254836628213525\n",
      "epoch 2050, loss 6.177067148499191\n",
      "epoch 2060, loss 6.774056992959231\n",
      "epoch 2070, loss 6.517861022148281\n",
      "epoch 2080, loss 6.226197608280927\n",
      "epoch 2090, loss 6.762853900901973\n",
      "epoch 2100, loss 6.092780137434602\n",
      "epoch 2110, loss 6.234266858547926\n",
      "epoch 2120, loss 6.097883577924222\n",
      "epoch 2130, loss 6.072203267365694\n",
      "epoch 2140, loss 6.636028109118342\n",
      "epoch 2150, loss 6.711860644631088\n",
      "epoch 2160, loss 6.255516787990928\n",
      "epoch 2170, loss 6.549105540849268\n",
      "epoch 2180, loss 6.1840071538463235\n",
      "epoch 2190, loss 6.746235933620483\n",
      "epoch 2200, loss 6.10108777647838\n",
      "epoch 2210, loss 7.035212764516473\n",
      "epoch 2220, loss 6.469353021122515\n",
      "epoch 2230, loss 6.5174055197276175\n",
      "epoch 2240, loss 7.183818875811994\n",
      "epoch 2250, loss 6.6950262556783855\n",
      "epoch 2260, loss 6.057460729032755\n",
      "epoch 2270, loss 7.072705257683992\n",
      "epoch 2280, loss 6.294000296853483\n",
      "epoch 2290, loss 7.317713009659201\n",
      "epoch 2300, loss 6.460876313969493\n",
      "epoch 2310, loss 6.404152255039662\n",
      "epoch 2320, loss 6.506671764422208\n",
      "epoch 2330, loss 6.8474259953945875\n",
      "epoch 2340, loss 6.148735075257719\n",
      "epoch 2350, loss 6.1082957638427615\n",
      "epoch 2360, loss 6.249632521532476\n",
      "epoch 2370, loss 6.108198348432779\n",
      "epoch 2380, loss 7.661471599247307\n",
      "epoch 2390, loss 6.1645975867286325\n",
      "epoch 2400, loss 6.771969026420265\n",
      "epoch 2410, loss 6.378137260209769\n",
      "epoch 2420, loss 6.539597484283149\n",
      "epoch 2430, loss 6.397714706603438\n",
      "epoch 2440, loss 6.732080036308616\n",
      "epoch 2450, loss 6.277193629648536\n",
      "epoch 2460, loss 6.56957372603938\n",
      "epoch 2470, loss 6.196608536876738\n",
      "epoch 2480, loss 6.198446480091661\n",
      "epoch 2490, loss 6.413989035412669\n",
      "epoch 2500, loss 5.969119474757463\n",
      "epoch 2510, loss 6.373140406794846\n",
      "epoch 2520, loss 6.053300927393138\n",
      "epoch 2530, loss 6.190317783970386\n",
      "epoch 2540, loss 6.225319222547114\n",
      "epoch 2550, loss 10.180909486487508\n",
      "epoch 2560, loss 6.095511538442224\n",
      "epoch 2570, loss 6.8012635121122\n",
      "epoch 2580, loss 6.066569703631103\n",
      "epoch 2590, loss 6.091056732460856\n",
      "epoch 2600, loss 6.3612922700122\n",
      "epoch 2610, loss 5.950763533823192\n",
      "epoch 2620, loss 6.633901626802981\n",
      "epoch 2630, loss 6.199469301383942\n",
      "epoch 2640, loss 6.2283085263334215\n",
      "epoch 2650, loss 6.0278734914027154\n",
      "epoch 2660, loss 6.580479901283979\n",
      "epoch 2670, loss 6.365655708592385\n",
      "epoch 2680, loss 6.262936643790454\n",
      "epoch 2690, loss 6.107637649867684\n",
      "epoch 2700, loss 5.997480694204569\n",
      "epoch 2710, loss 6.054431033786386\n",
      "epoch 2720, loss 6.367020218167454\n",
      "epoch 2730, loss 6.2953069973737\n",
      "epoch 2740, loss 6.257904574275017\n",
      "epoch 2750, loss 6.427702766377479\n",
      "epoch 2760, loss 6.340408652089536\n",
      "epoch 2770, loss 5.731793484650552\n",
      "epoch 2780, loss 6.0141798802651465\n",
      "epoch 2790, loss 7.211219765711576\n",
      "epoch 2800, loss 6.154417058918625\n",
      "epoch 2810, loss 5.880583398975432\n",
      "epoch 2820, loss 6.226569313555956\n",
      "epoch 2830, loss 6.514088507276028\n",
      "epoch 2840, loss 6.330873041413724\n",
      "epoch 2850, loss 6.614478132221848\n",
      "epoch 2860, loss 6.402099166996777\n",
      "epoch 2870, loss 7.03784547559917\n",
      "epoch 2880, loss 5.965450175106525\n",
      "epoch 2890, loss 5.9701507948338985\n",
      "epoch 2900, loss 6.2818835116922855\n",
      "epoch 2910, loss 6.334365587215871\n",
      "epoch 2920, loss 6.03246630448848\n",
      "epoch 2930, loss 6.212179315276444\n",
      "epoch 2940, loss 5.921180833131075\n",
      "epoch 2950, loss 6.137586654629558\n",
      "epoch 2960, loss 5.972752454690635\n",
      "epoch 2970, loss 6.93248873623088\n",
      "epoch 2980, loss 6.037134610116482\n",
      "epoch 2990, loss 6.083052333910018\n",
      "epoch 3000, loss 6.528897283133119\n",
      "epoch 3010, loss 7.140000129584223\n",
      "epoch 3020, loss 5.968057949561626\n",
      "epoch 3030, loss 5.917301621753722\n",
      "epoch 3040, loss 6.0761602045968175\n",
      "epoch 3050, loss 7.322792526334524\n",
      "epoch 3060, loss 6.052041319198906\n",
      "epoch 3070, loss 6.296434895135462\n",
      "epoch 3080, loss 6.210947101470083\n",
      "epoch 3090, loss 5.873994815163314\n",
      "epoch 3100, loss 6.367784129455686\n",
      "epoch 3110, loss 6.139391229487956\n",
      "epoch 3120, loss 5.973698016256094\n",
      "epoch 3130, loss 6.047908734064549\n",
      "epoch 3140, loss 6.003753843717277\n",
      "epoch 3150, loss 6.284333621151745\n",
      "epoch 3160, loss 6.026064916048199\n",
      "epoch 3170, loss 5.759019543416798\n",
      "epoch 3180, loss 5.752129458356649\n",
      "epoch 3190, loss 7.453223324380815\n",
      "epoch 3200, loss 6.143959005828947\n",
      "epoch 3210, loss 6.026743015740067\n",
      "epoch 3220, loss 5.881294111721218\n",
      "epoch 3230, loss 6.284820418804884\n",
      "epoch 3240, loss 6.201151244342327\n",
      "epoch 3250, loss 5.82561078062281\n",
      "epoch 3260, loss 6.32294883672148\n",
      "epoch 3270, loss 6.1886327103711665\n",
      "epoch 3280, loss 5.69742868328467\n",
      "epoch 3290, loss 6.008362699765712\n",
      "epoch 3300, loss 6.06518419412896\n",
      "epoch 3310, loss 6.161614320240915\n",
      "epoch 3320, loss 6.178782324772328\n",
      "epoch 3330, loss 6.352693491149694\n",
      "epoch 3340, loss 5.812217296101153\n",
      "epoch 3350, loss 6.111971477046609\n",
      "epoch 3360, loss 6.386163662653416\n",
      "epoch 3370, loss 6.086724418215454\n",
      "epoch 3380, loss 6.059014541562647\n",
      "epoch 3390, loss 6.009533921256661\n",
      "epoch 3400, loss 6.345761304255575\n",
      "epoch 3410, loss 6.1757976417429745\n"
     ]
    },
    {
     "ename": "KeyboardInterrupt",
     "evalue": "",
     "output_type": "error",
     "traceback": [
      "\u001b[1;31m---------------------------------------------------------------------------\u001b[0m",
      "\u001b[1;31mKeyboardInterrupt\u001b[0m                         Traceback (most recent call last)",
      "Cell \u001b[1;32mIn[72], line 13\u001b[0m\n\u001b[0;32m     10\u001b[0m seq_pred \u001b[38;5;241m=\u001b[39m model\u001b[38;5;241m.\u001b[39mforward(seq)\n\u001b[0;32m     12\u001b[0m loss \u001b[38;5;241m=\u001b[39m criterion(seq, seq_pred)\n\u001b[1;32m---> 13\u001b[0m \u001b[43mloss\u001b[49m\u001b[38;5;241;43m.\u001b[39;49m\u001b[43mbackward\u001b[49m\u001b[43m(\u001b[49m\u001b[43m)\u001b[49m\n\u001b[0;32m     14\u001b[0m nn\u001b[38;5;241m.\u001b[39mutils\u001b[38;5;241m.\u001b[39mclip_grad_norm_(model\u001b[38;5;241m.\u001b[39mparameters(), max_norm\u001b[38;5;241m=\u001b[39m\u001b[38;5;241m3.\u001b[39m)\n\u001b[0;32m     15\u001b[0m optimizer\u001b[38;5;241m.\u001b[39mstep()\n",
      "File \u001b[1;32mc:\\Users\\matth\\AppData\\Local\\Programs\\Python\\Python311\\Lib\\site-packages\\torch\\_tensor.py:492\u001b[0m, in \u001b[0;36mTensor.backward\u001b[1;34m(self, gradient, retain_graph, create_graph, inputs)\u001b[0m\n\u001b[0;32m    482\u001b[0m \u001b[38;5;28;01mif\u001b[39;00m has_torch_function_unary(\u001b[38;5;28mself\u001b[39m):\n\u001b[0;32m    483\u001b[0m     \u001b[38;5;28;01mreturn\u001b[39;00m handle_torch_function(\n\u001b[0;32m    484\u001b[0m         Tensor\u001b[38;5;241m.\u001b[39mbackward,\n\u001b[0;32m    485\u001b[0m         (\u001b[38;5;28mself\u001b[39m,),\n\u001b[1;32m   (...)\u001b[0m\n\u001b[0;32m    490\u001b[0m         inputs\u001b[38;5;241m=\u001b[39minputs,\n\u001b[0;32m    491\u001b[0m     )\n\u001b[1;32m--> 492\u001b[0m \u001b[43mtorch\u001b[49m\u001b[38;5;241;43m.\u001b[39;49m\u001b[43mautograd\u001b[49m\u001b[38;5;241;43m.\u001b[39;49m\u001b[43mbackward\u001b[49m\u001b[43m(\u001b[49m\n\u001b[0;32m    493\u001b[0m \u001b[43m    \u001b[49m\u001b[38;5;28;43mself\u001b[39;49m\u001b[43m,\u001b[49m\u001b[43m \u001b[49m\u001b[43mgradient\u001b[49m\u001b[43m,\u001b[49m\u001b[43m \u001b[49m\u001b[43mretain_graph\u001b[49m\u001b[43m,\u001b[49m\u001b[43m \u001b[49m\u001b[43mcreate_graph\u001b[49m\u001b[43m,\u001b[49m\u001b[43m \u001b[49m\u001b[43minputs\u001b[49m\u001b[38;5;241;43m=\u001b[39;49m\u001b[43minputs\u001b[49m\n\u001b[0;32m    494\u001b[0m \u001b[43m\u001b[49m\u001b[43m)\u001b[49m\n",
      "File \u001b[1;32mc:\\Users\\matth\\AppData\\Local\\Programs\\Python\\Python311\\Lib\\site-packages\\torch\\autograd\\__init__.py:251\u001b[0m, in \u001b[0;36mbackward\u001b[1;34m(tensors, grad_tensors, retain_graph, create_graph, grad_variables, inputs)\u001b[0m\n\u001b[0;32m    246\u001b[0m     retain_graph \u001b[38;5;241m=\u001b[39m create_graph\n\u001b[0;32m    248\u001b[0m \u001b[38;5;66;03m# The reason we repeat the same comment below is that\u001b[39;00m\n\u001b[0;32m    249\u001b[0m \u001b[38;5;66;03m# some Python versions print out the first line of a multi-line function\u001b[39;00m\n\u001b[0;32m    250\u001b[0m \u001b[38;5;66;03m# calls in the traceback and some print out the last line\u001b[39;00m\n\u001b[1;32m--> 251\u001b[0m \u001b[43mVariable\u001b[49m\u001b[38;5;241;43m.\u001b[39;49m\u001b[43m_execution_engine\u001b[49m\u001b[38;5;241;43m.\u001b[39;49m\u001b[43mrun_backward\u001b[49m\u001b[43m(\u001b[49m\u001b[43m  \u001b[49m\u001b[38;5;66;43;03m# Calls into the C++ engine to run the backward pass\u001b[39;49;00m\n\u001b[0;32m    252\u001b[0m \u001b[43m    \u001b[49m\u001b[43mtensors\u001b[49m\u001b[43m,\u001b[49m\n\u001b[0;32m    253\u001b[0m \u001b[43m    \u001b[49m\u001b[43mgrad_tensors_\u001b[49m\u001b[43m,\u001b[49m\n\u001b[0;32m    254\u001b[0m \u001b[43m    \u001b[49m\u001b[43mretain_graph\u001b[49m\u001b[43m,\u001b[49m\n\u001b[0;32m    255\u001b[0m \u001b[43m    \u001b[49m\u001b[43mcreate_graph\u001b[49m\u001b[43m,\u001b[49m\n\u001b[0;32m    256\u001b[0m \u001b[43m    \u001b[49m\u001b[43minputs\u001b[49m\u001b[43m,\u001b[49m\n\u001b[0;32m    257\u001b[0m \u001b[43m    \u001b[49m\u001b[43mallow_unreachable\u001b[49m\u001b[38;5;241;43m=\u001b[39;49m\u001b[38;5;28;43;01mTrue\u001b[39;49;00m\u001b[43m,\u001b[49m\n\u001b[0;32m    258\u001b[0m \u001b[43m    \u001b[49m\u001b[43maccumulate_grad\u001b[49m\u001b[38;5;241;43m=\u001b[39;49m\u001b[38;5;28;43;01mTrue\u001b[39;49;00m\u001b[43m,\u001b[49m\n\u001b[0;32m    259\u001b[0m \u001b[43m\u001b[49m\u001b[43m)\u001b[49m\n",
      "\u001b[1;31mKeyboardInterrupt\u001b[0m: "
     ]
    }
   ],
   "source": [
    "for epoch in range(10000):\n",
    "    model.train()\n",
    "\n",
    "    for i,batch in enumerate(beat_dataloader, 0):\n",
    "\n",
    "        optimizer.zero_grad()\n",
    "\n",
    "        seq, label = batch\n",
    "\n",
    "        seq_pred = model.forward(seq)\n",
    "\n",
    "        loss = criterion(seq, seq_pred)\n",
    "        loss.backward()\n",
    "        nn.utils.clip_grad_norm_(model.parameters(), max_norm=3.)\n",
    "        optimizer.step()\n",
    "\n",
    "    if epoch % 10 == 0:\n",
    "        model.eval()\n",
    "\n",
    "        totalloss = 0.\n",
    "\n",
    "        with torch.no_grad():\n",
    "            for i,batch in enumerate(beat_dataloader, 0):\n",
    "                seq, label = batch\n",
    "\n",
    "                seq_pred = model.forward(seq)\n",
    "\n",
    "                loss = criterion(seq, seq_pred)\n",
    "\n",
    "                totalloss += loss.item()\n",
    "\n",
    "        print(f'epoch {epoch}, loss {totalloss}')\n",
    "        losses.append(totalloss)\n",
    "\n",
    "    if epoch % 100 == 0:\n",
    "        torch.save(model.state_dict(), 'autoencoder.pt')"
   ]
  },
  {
   "cell_type": "code",
   "execution_count": null,
   "metadata": {},
   "outputs": [],
   "source": [
    "torch.save(model.state_dict(), 'autoencoder.pt')"
   ]
  },
  {
   "cell_type": "code",
   "execution_count": 74,
   "metadata": {},
   "outputs": [
    {
     "data": {
      "text/plain": [
       "[<matplotlib.lines.Line2D at 0x22fc32cd950>]"
      ]
     },
     "execution_count": 74,
     "metadata": {},
     "output_type": "execute_result"
    },
    {
     "data": {
      "image/png": "[encoded data removed]",
      "text/plain": [
       "<Figure size 640x480 with 1 Axes>"
      ]
     },
     "metadata": {},
     "output_type": "display_data"
    }
   ],
   "source": [
    "# plt.plot([np.log(x) for x in losses])\n",
    "plt.plot(losses[150:])"
   ]
  },
  {
   "cell_type": "code",
   "execution_count": 79,
   "metadata": {},
   "outputs": [
    {
     "data": {
      "text/plain": [
       "[<matplotlib.lines.Line2D at 0x2301a4850d0>]"
      ]
     },
     "execution_count": 79,
     "metadata": {},
     "output_type": "execute_result"
    },
    {
     "data": {
      "image/png": "[encoded data removed]",
      "text/plain": [
       "<Figure size 640x480 with 1 Axes>"
      ]
     },
     "metadata": {},
     "output_type": "display_data"
    }
   ],
   "source": [
    "# i = 12425\n",
    "i=11422\n",
    "\n",
    "seq, label, _ = beats[i]\n",
    "seq = torch.tensor(seq, dtype=torch.float32, device=device)\n",
    "seq = seq.reshape((1,98))\n",
    "model.eval()\n",
    "seq_pred = model.forward(seq)\n",
    "\n",
    "plt.plot(seq.detach().cpu().numpy().reshape(-1))\n",
    "plt.plot(seq_pred.detach().cpu().numpy().reshape(-1))\n"
   ]
  },
  {
   "cell_type": "markdown",
   "metadata": {},
   "source": [
    "# Distribution Difference"
   ]
  },
  {
   "cell_type": "code",
   "execution_count": null,
   "metadata": {},
   "outputs": [],
   "source": []
  },
  {
   "cell_type": "code",
   "execution_count": null,
   "metadata": {},
   "outputs": [],
   "source": [
    "users = [{key:[] for key in label_map.keys()} for i in range(48)]\n",
    "\n",
    "for beat in beats:\n",
    "    users[beat[2]][beat[1]].append(beat[0])"
   ]
  },
  {
   "cell_type": "code",
   "execution_count": null,
   "metadata": {},
   "outputs": [
    {
     "data": {
      "text/plain": [
       "{'L': 0, 'R': 1, 'N': 2, 'V': 3, 'P': 4}"
      ]
     },
     "execution_count": 20,
     "metadata": {},
     "output_type": "execute_result"
    }
   ],
   "source": [
    "label_map"
   ]
  },
  {
   "cell_type": "code",
   "execution_count": null,
   "metadata": {},
   "outputs": [
    {
     "data": {
      "text/plain": [
       "[0, 0, 1151, 0, 0]"
      ]
     },
     "execution_count": 21,
     "metadata": {},
     "output_type": "execute_result"
    }
   ],
   "source": [
    "[len(x) for x in users[12].values()]"
   ]
  },
  {
   "cell_type": "code",
   "execution_count": null,
   "metadata": {},
   "outputs": [
    {
     "ename": "TypeError",
     "evalue": "Population must be a sequence.  For dicts or sets, use sorted(d).",
     "output_type": "error",
     "traceback": [
      "\u001b[1;31m---------------------------------------------------------------------------\u001b[0m",
      "\u001b[1;31mTypeError\u001b[0m                                 Traceback (most recent call last)",
      "Cell \u001b[1;32mIn[54], line 38\u001b[0m\n\u001b[0;32m     35\u001b[0m group_2 \u001b[38;5;241m=\u001b[39m users[\u001b[38;5;241m12\u001b[39m][\u001b[38;5;124m'\u001b[39m\u001b[38;5;124mN\u001b[39m\u001b[38;5;124m'\u001b[39m][:\u001b[38;5;241m1000\u001b[39m]\n\u001b[0;32m     36\u001b[0m \u001b[38;5;66;03m# group_2 = users[20]['R'][:1000]\u001b[39;00m\n\u001b[1;32m---> 38\u001b[0m \u001b[43mrelative_entropy\u001b[49m\u001b[43m(\u001b[49m\u001b[43mgroup_1\u001b[49m\u001b[43m,\u001b[49m\u001b[43m \u001b[49m\u001b[43mgroup_2\u001b[49m\u001b[43m)\u001b[49m\n",
      "Cell \u001b[1;32mIn[54], line 18\u001b[0m, in \u001b[0;36mrelative_entropy\u001b[1;34m(beats_1, beats_2)\u001b[0m\n\u001b[0;32m     15\u001b[0m kde_D2 \u001b[38;5;241m=\u001b[39m KernelDensity(bandwidth\u001b[38;5;241m=\u001b[39m\u001b[38;5;241m1.0\u001b[39m, kernel\u001b[38;5;241m=\u001b[39m\u001b[38;5;124m'\u001b[39m\u001b[38;5;124mgaussian\u001b[39m\u001b[38;5;124m'\u001b[39m)\u001b[38;5;241m.\u001b[39mfit(encode_2)\n\u001b[0;32m     17\u001b[0m \u001b[38;5;66;03m# X = np.vstack([encode_1, encode_2])\u001b[39;00m\n\u001b[1;32m---> 18\u001b[0m X \u001b[38;5;241m=\u001b[39m np\u001b[38;5;241m.\u001b[39mvstack([\u001b[43mrandom\u001b[49m\u001b[38;5;241;43m.\u001b[39;49m\u001b[43msample\u001b[49m\u001b[43m(\u001b[49m\u001b[43mencode_1\u001b[49m\u001b[43m,\u001b[49m\u001b[43m \u001b[49m\u001b[38;5;28;43mmin\u001b[39;49m\u001b[43m(\u001b[49m\u001b[38;5;28;43mlen\u001b[39;49m\u001b[43m(\u001b[49m\u001b[43mencode_1\u001b[49m\u001b[43m)\u001b[49m\u001b[43m,\u001b[49m\u001b[43m \u001b[49m\u001b[38;5;28;43mlen\u001b[39;49m\u001b[43m(\u001b[49m\u001b[43mencode_2\u001b[49m\u001b[43m)\u001b[49m\u001b[43m)\u001b[49m\u001b[43m)\u001b[49m, random\u001b[38;5;241m.\u001b[39msample(encode_2, \u001b[38;5;28mmin\u001b[39m(\u001b[38;5;28mlen\u001b[39m(encode_1), \u001b[38;5;28mlen\u001b[39m(encode_2)))])\n\u001b[0;32m     20\u001b[0m log_prob_D1 \u001b[38;5;241m=\u001b[39m kde_D1\u001b[38;5;241m.\u001b[39mscore_samples(X)\n\u001b[0;32m     21\u001b[0m log_prob_D2 \u001b[38;5;241m=\u001b[39m kde_D2\u001b[38;5;241m.\u001b[39mscore_samples(X)\n",
      "File \u001b[1;32mc:\\Users\\matth\\AppData\\Local\\Programs\\Python\\Python311\\Lib\\random.py:439\u001b[0m, in \u001b[0;36mRandom.sample\u001b[1;34m(self, population, k, counts)\u001b[0m\n\u001b[0;32m    415\u001b[0m \u001b[38;5;66;03m# Sampling without replacement entails tracking either potential\u001b[39;00m\n\u001b[0;32m    416\u001b[0m \u001b[38;5;66;03m# selections (the pool) in a list or previous selections in a set.\u001b[39;00m\n\u001b[0;32m    417\u001b[0m \n\u001b[1;32m   (...)\u001b[0m\n\u001b[0;32m    435\u001b[0m \u001b[38;5;66;03m# too many calls to _randbelow(), making them slower and\u001b[39;00m\n\u001b[0;32m    436\u001b[0m \u001b[38;5;66;03m# causing them to eat more entropy than necessary.\u001b[39;00m\n\u001b[0;32m    438\u001b[0m \u001b[38;5;28;01mif\u001b[39;00m \u001b[38;5;129;01mnot\u001b[39;00m \u001b[38;5;28misinstance\u001b[39m(population, _Sequence):\n\u001b[1;32m--> 439\u001b[0m     \u001b[38;5;28;01mraise\u001b[39;00m \u001b[38;5;167;01mTypeError\u001b[39;00m(\u001b[38;5;124m\"\u001b[39m\u001b[38;5;124mPopulation must be a sequence.  \u001b[39m\u001b[38;5;124m\"\u001b[39m\n\u001b[0;32m    440\u001b[0m                     \u001b[38;5;124m\"\u001b[39m\u001b[38;5;124mFor dicts or sets, use sorted(d).\u001b[39m\u001b[38;5;124m\"\u001b[39m)\n\u001b[0;32m    441\u001b[0m n \u001b[38;5;241m=\u001b[39m \u001b[38;5;28mlen\u001b[39m(population)\n\u001b[0;32m    442\u001b[0m \u001b[38;5;28;01mif\u001b[39;00m counts \u001b[38;5;129;01mis\u001b[39;00m \u001b[38;5;129;01mnot\u001b[39;00m \u001b[38;5;28;01mNone\u001b[39;00m:\n",
      "\u001b[1;31mTypeError\u001b[0m: Population must be a sequence.  For dicts or sets, use sorted(d)."
     ]
    }
   ],
   "source": [
    "def encode(beats):\n",
    "    values = np.stack(beats, axis=1).reshape((-1, 98))\n",
    "    seq = torch.tensor(values, dtype=torch.float32, device=device)\n",
    "    model.eval()\n",
    "    with torch.no_grad():\n",
    "        encoded = model.encoder.forward(seq)\n",
    "    encoded = torch.concat(encoded, dim=2).squeeze(0)\n",
    "    return encoded\n",
    "\n",
    "def relative_entropy(beats_1, beats_2):\n",
    "    encode_1 = encode(beats_1).detach().cpu().numpy()\n",
    "    encode_2 = encode(beats_2).detach().cpu().numpy()\n",
    "\n",
    "    kde_D1 = KernelDensity(bandwidth=1.0, kernel='gaussian').fit(encode_1)\n",
    "    kde_D2 = KernelDensity(bandwidth=1.0, kernel='gaussian').fit(encode_2)\n",
    "\n",
    "    # X = np.vstack([encode_1, encode_2])\n",
    "    X = np.vstack([encode_1[:min(len(encode_1), len(encode_2))], encode_2[:min(len(encode_1), len(encode_2))]])\n",
    "    # X = np.vstack([random.sample(encode_1, min(len(encode_1), len(encode_2))), random.sample(encode_2, min(len(encode_1), len(encode_2)))])\n",
    "\n",
    "    log_prob_D1 = kde_D1.score_samples(X)\n",
    "    log_prob_D2 = kde_D2.score_samples(X)\n",
    "\n",
    "    prob_D1 = np.exp(log_prob_D1)\n",
    "    prob_D2 = np.exp(log_prob_D2)\n",
    "\n",
    "    # Calculate the KL divergence\n",
    "    kl_divergence = jensenshannon(prob_D1, prob_D2)\n",
    "\n",
    "    # print(kl_divergence)\n",
    "\n",
    "    return kl_divergence\n",
    "\n",
    "group_1 = users[9]['N'][:1000]\n",
    "# group_2 = users[9]['N'][1000:]\n",
    "group_2 = users[12]['N'][:1000]\n",
    "# group_2 = users[20]['R'][:1000]\n",
    "\n",
    "relative_entropy(group_1, group_2)"
   ]
  },
  {
   "cell_type": "code",
   "execution_count": null,
   "metadata": {},
   "outputs": [
    {
     "data": {
      "text/plain": [
       "31"
      ]
     },
     "execution_count": 52,
     "metadata": {},
     "output_type": "execute_result"
    }
   ],
   "source": [
    "category = 'N'\n",
    "\n",
    "groups = []\n",
    "for patient in users:\n",
    "    if len(patient[category]) > 1000:\n",
    "        groups.append(patient[category])\n",
    "\n",
    "len(groups)"
   ]
  },
  {
   "cell_type": "code",
   "execution_count": null,
   "metadata": {},
   "outputs": [
    {
     "name": "stderr",
     "output_type": "stream",
     "text": [
      "100%|██████████| 31/31 [04:39<00:00,  9.02s/it]\n"
     ]
    }
   ],
   "source": [
    "avg_intergroup = 0\n",
    "for group in groups:\n",
    "    avg_intergroup += relative_entropy(group[:len(group)//2], group[len(group)//2:])\n",
    "\n",
    "avg_intergroup /= len(groups)\n",
    "\n",
    "avg_betweengroup = 0\n",
    "count = 0\n",
    "for i in tqdm(range(len(groups))):\n",
    "    for j in range(i+1, len(groups)):\n",
    "        avg_betweengroup += relative_entropy(groups[i], groups[j])\n",
    "        count += 1\n",
    "\n",
    "avg_betweengroup /= count"
   ]
  },
  {
   "cell_type": "code",
   "execution_count": null,
   "metadata": {},
   "outputs": [
    {
     "name": "stdout",
     "output_type": "stream",
     "text": [
      "0.13391881274500528 0.5520462977884323\n"
     ]
    }
   ],
   "source": [
    "print(avg_intergroup, avg_betweengroup)"
   ]
  },
  {
   "cell_type": "code",
   "execution_count": null,
   "metadata": {},
   "outputs": [
    {
     "data": {
      "text/plain": [
       "31"
      ]
     },
     "execution_count": 229,
     "metadata": {},
     "output_type": "execute_result"
    }
   ],
   "source": [
    "len(groups)"
   ]
  },
  {
   "cell_type": "code",
   "execution_count": null,
   "metadata": {},
   "outputs": [
    {
     "data": {
      "text/plain": [
       "(array([ 1.,  1.,  0.,  1.,  0.,  1.,  3.,  1.,  0.,  1.,  1.,  1.,  0.,\n",
       "         1.,  0.,  1.,  0.,  1.,  0.,  1.,  0.,  1.,  0.,  1.,  2.,  2.,\n",
       "         1.,  2.,  1.,  0.,  1.,  0.,  0.,  0.,  1.,  1.,  1.,  0.,  2.,\n",
       "         1.,  0.,  0.,  1.,  0.,  2.,  2.,  0.,  2.,  0.,  1.,  2.,  1.,\n",
       "         5.,  0.,  1.,  6.,  5.,  3.,  6., 17., 12., 16., 34., 34., 36.,\n",
       "        54., 66., 63., 75., 59., 68., 58., 73., 36., 29., 31., 24., 17.,\n",
       "        15., 12., 16., 19., 10.,  8.,  6., 12.,  8.,  3.,  2.,  2.,  1.,\n",
       "         0.,  2.,  5.,  0.,  1.,  1.,  3.,  2.,  1.]),\n",
       " array([-0.97480834, -0.95593017, -0.93705195, -0.91817379, -0.89929557,\n",
       "        -0.88041741, -0.86153919, -0.84266102, -0.8237828 , -0.80490464,\n",
       "        -0.78602642, -0.76714826, -0.74827003, -0.72939187, -0.71051365,\n",
       "        -0.69163549, -0.67275727, -0.65387911, -0.63500094, -0.61612272,\n",
       "        -0.59724456, -0.57836634, -0.55948818, -0.54060996, -0.52173179,\n",
       "        -0.50285357, -0.48397541, -0.46509722, -0.44621903, -0.42734084,\n",
       "        -0.40846264, -0.38958445, -0.37070626, -0.35182807, -0.33294988,\n",
       "        -0.31407169, -0.29519349, -0.2763153 , -0.25743711, -0.23855893,\n",
       "        -0.21968074, -0.20080255, -0.18192436, -0.16304617, -0.14416797,\n",
       "        -0.12528978, -0.1064116 , -0.08753341, -0.06865522, -0.04977703,\n",
       "        -0.03089884, -0.01202065,  0.00685754,  0.02573573,  0.04461392,\n",
       "         0.06349211,  0.0823703 ,  0.10124849,  0.12012668,  0.13900487,\n",
       "         0.15788306,  0.17676125,  0.19563945,  0.21451762,  0.23339581,\n",
       "         0.25227401,  0.2711522 ,  0.29003039,  0.30890858,  0.32778677,\n",
       "         0.34666497,  0.36554316,  0.38442135,  0.40329954,  0.42217773,\n",
       "         0.44105589,  0.45993409,  0.47881228,  0.49769047,  0.51656866,\n",
       "         0.53544688,  0.55432504,  0.57320327,  0.59208143,  0.61095959,\n",
       "         0.62983781,  0.64871597,  0.66759419,  0.68647236,  0.70535058,\n",
       "         0.72422874,  0.74310696,  0.76198512,  0.78086334,  0.79974151,\n",
       "         0.81861973,  0.83749789,  0.85637611,  0.87525427,  0.89413249,\n",
       "         0.91301066]),\n",
       " <BarContainer object of 100 artists>)"
      ]
     },
     "execution_count": 225,
     "metadata": {},
     "output_type": "execute_result"
    },
    {
     "data": {
      "image/png": "[encoded data removed]",
      "text/plain": [
       "<Figure size 640x480 with 1 Axes>"
      ]
     },
     "metadata": {},
     "output_type": "display_data"
    }
   ],
   "source": [
    "plt.hist(y[:,9], bins=100)"
   ]
  }
 ],
 "metadata": {
  "kernelspec": {
   "display_name": "Python 3",
   "language": "python",
   "name": "python3"
  },
  "language_info": {
   "codemirror_mode": {
    "name": "ipython",
    "version": 3
   },
   "file_extension": ".py",
   "mimetype": "text/x-python",
   "name": "python",
   "nbconvert_exporter": "python",
   "pygments_lexer": "ipython3",
   "version": "3.11.7"
  }
 },
 "nbformat": 4,
 "nbformat_minor": 2
}
